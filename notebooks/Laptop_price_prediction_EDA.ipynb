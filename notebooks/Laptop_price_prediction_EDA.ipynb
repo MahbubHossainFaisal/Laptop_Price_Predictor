{
 "cells": [
  {
   "cell_type": "markdown",
   "id": "abf4966d",
   "metadata": {},
   "source": [
    "## Laptop Price Predictor"
   ]
  },
  {
   "cell_type": "markdown",
   "id": "31756206",
   "metadata": {},
   "source": [
    "### 1) Problem statement\n",
    "- This project understands how the laptop's price is affected by other variables such as Company, Product, TypeName,size, Screen resolution, Cpu, Ram ,Memory,Gpu,OpSys and Weight\n",
    "\n",
    "\n",
    "### 2) Data Collection\n",
    "- Dataset Source - https://www.kaggle.com/datasets/muhammetvarl/laptop-price\n",
    "- The data consists of 13 column and 1303 rows."
   ]
  },
  {
   "cell_type": "code",
   "execution_count": 1,
   "id": "8bb7c7b4",
   "metadata": {},
   "outputs": [],
   "source": [
    "import numpy as np\n",
    "import pandas as pd\n",
    "import seaborn as sns\n",
    "import matplotlib.pyplot as plt\n",
    "%matplotlib inline\n",
    "import warnings\n",
    "warnings.filterwarnings('ignore')"
   ]
  },
  {
   "cell_type": "markdown",
   "id": "6cafd6b4",
   "metadata": {},
   "source": [
    "#### Importing the CSV Data as Pandas DataFrame"
   ]
  },
  {
   "cell_type": "code",
   "execution_count": 2,
   "id": "53933f17",
   "metadata": {},
   "outputs": [],
   "source": [
    "df = pd.read_csv('D:\\\\Study\\\\ML-Projects\\\\Project-2(Laptop_Price_Predictor)\\\\notebooks\\\\data\\\\laptop_price.csv',encoding='ISO-8859-1')"
   ]
  },
  {
   "cell_type": "code",
   "execution_count": 3,
   "id": "0173948f",
   "metadata": {},
   "outputs": [
    {
     "data": {
      "text/html": [
       "<div>\n",
       "<style scoped>\n",
       "    .dataframe tbody tr th:only-of-type {\n",
       "        vertical-align: middle;\n",
       "    }\n",
       "\n",
       "    .dataframe tbody tr th {\n",
       "        vertical-align: top;\n",
       "    }\n",
       "\n",
       "    .dataframe thead th {\n",
       "        text-align: right;\n",
       "    }\n",
       "</style>\n",
       "<table border=\"1\" class=\"dataframe\">\n",
       "  <thead>\n",
       "    <tr style=\"text-align: right;\">\n",
       "      <th></th>\n",
       "      <th>laptop_ID</th>\n",
       "      <th>Company</th>\n",
       "      <th>Product</th>\n",
       "      <th>TypeName</th>\n",
       "      <th>Inches</th>\n",
       "      <th>ScreenResolution</th>\n",
       "      <th>Cpu</th>\n",
       "      <th>Ram</th>\n",
       "      <th>Memory</th>\n",
       "      <th>Gpu</th>\n",
       "      <th>OpSys</th>\n",
       "      <th>Weight</th>\n",
       "      <th>Price_euros</th>\n",
       "    </tr>\n",
       "  </thead>\n",
       "  <tbody>\n",
       "    <tr>\n",
       "      <th>0</th>\n",
       "      <td>1</td>\n",
       "      <td>Apple</td>\n",
       "      <td>MacBook Pro</td>\n",
       "      <td>Ultrabook</td>\n",
       "      <td>13.3</td>\n",
       "      <td>IPS Panel Retina Display 2560x1600</td>\n",
       "      <td>Intel Core i5 2.3GHz</td>\n",
       "      <td>8GB</td>\n",
       "      <td>128GB SSD</td>\n",
       "      <td>Intel Iris Plus Graphics 640</td>\n",
       "      <td>macOS</td>\n",
       "      <td>1.37kg</td>\n",
       "      <td>1339.69</td>\n",
       "    </tr>\n",
       "    <tr>\n",
       "      <th>1</th>\n",
       "      <td>2</td>\n",
       "      <td>Apple</td>\n",
       "      <td>Macbook Air</td>\n",
       "      <td>Ultrabook</td>\n",
       "      <td>13.3</td>\n",
       "      <td>1440x900</td>\n",
       "      <td>Intel Core i5 1.8GHz</td>\n",
       "      <td>8GB</td>\n",
       "      <td>128GB Flash Storage</td>\n",
       "      <td>Intel HD Graphics 6000</td>\n",
       "      <td>macOS</td>\n",
       "      <td>1.34kg</td>\n",
       "      <td>898.94</td>\n",
       "    </tr>\n",
       "    <tr>\n",
       "      <th>2</th>\n",
       "      <td>3</td>\n",
       "      <td>HP</td>\n",
       "      <td>250 G6</td>\n",
       "      <td>Notebook</td>\n",
       "      <td>15.6</td>\n",
       "      <td>Full HD 1920x1080</td>\n",
       "      <td>Intel Core i5 7200U 2.5GHz</td>\n",
       "      <td>8GB</td>\n",
       "      <td>256GB SSD</td>\n",
       "      <td>Intel HD Graphics 620</td>\n",
       "      <td>No OS</td>\n",
       "      <td>1.86kg</td>\n",
       "      <td>575.00</td>\n",
       "    </tr>\n",
       "    <tr>\n",
       "      <th>3</th>\n",
       "      <td>4</td>\n",
       "      <td>Apple</td>\n",
       "      <td>MacBook Pro</td>\n",
       "      <td>Ultrabook</td>\n",
       "      <td>15.4</td>\n",
       "      <td>IPS Panel Retina Display 2880x1800</td>\n",
       "      <td>Intel Core i7 2.7GHz</td>\n",
       "      <td>16GB</td>\n",
       "      <td>512GB SSD</td>\n",
       "      <td>AMD Radeon Pro 455</td>\n",
       "      <td>macOS</td>\n",
       "      <td>1.83kg</td>\n",
       "      <td>2537.45</td>\n",
       "    </tr>\n",
       "    <tr>\n",
       "      <th>4</th>\n",
       "      <td>5</td>\n",
       "      <td>Apple</td>\n",
       "      <td>MacBook Pro</td>\n",
       "      <td>Ultrabook</td>\n",
       "      <td>13.3</td>\n",
       "      <td>IPS Panel Retina Display 2560x1600</td>\n",
       "      <td>Intel Core i5 3.1GHz</td>\n",
       "      <td>8GB</td>\n",
       "      <td>256GB SSD</td>\n",
       "      <td>Intel Iris Plus Graphics 650</td>\n",
       "      <td>macOS</td>\n",
       "      <td>1.37kg</td>\n",
       "      <td>1803.60</td>\n",
       "    </tr>\n",
       "  </tbody>\n",
       "</table>\n",
       "</div>"
      ],
      "text/plain": [
       "   laptop_ID Company      Product   TypeName  Inches  \\\n",
       "0          1   Apple  MacBook Pro  Ultrabook    13.3   \n",
       "1          2   Apple  Macbook Air  Ultrabook    13.3   \n",
       "2          3      HP       250 G6   Notebook    15.6   \n",
       "3          4   Apple  MacBook Pro  Ultrabook    15.4   \n",
       "4          5   Apple  MacBook Pro  Ultrabook    13.3   \n",
       "\n",
       "                     ScreenResolution                         Cpu   Ram  \\\n",
       "0  IPS Panel Retina Display 2560x1600        Intel Core i5 2.3GHz   8GB   \n",
       "1                            1440x900        Intel Core i5 1.8GHz   8GB   \n",
       "2                   Full HD 1920x1080  Intel Core i5 7200U 2.5GHz   8GB   \n",
       "3  IPS Panel Retina Display 2880x1800        Intel Core i7 2.7GHz  16GB   \n",
       "4  IPS Panel Retina Display 2560x1600        Intel Core i5 3.1GHz   8GB   \n",
       "\n",
       "                Memory                           Gpu  OpSys  Weight  \\\n",
       "0            128GB SSD  Intel Iris Plus Graphics 640  macOS  1.37kg   \n",
       "1  128GB Flash Storage        Intel HD Graphics 6000  macOS  1.34kg   \n",
       "2            256GB SSD         Intel HD Graphics 620  No OS  1.86kg   \n",
       "3            512GB SSD            AMD Radeon Pro 455  macOS  1.83kg   \n",
       "4            256GB SSD  Intel Iris Plus Graphics 650  macOS  1.37kg   \n",
       "\n",
       "   Price_euros  \n",
       "0      1339.69  \n",
       "1       898.94  \n",
       "2       575.00  \n",
       "3      2537.45  \n",
       "4      1803.60  "
      ]
     },
     "execution_count": 3,
     "metadata": {},
     "output_type": "execute_result"
    }
   ],
   "source": [
    "df.head()"
   ]
  },
  {
   "cell_type": "markdown",
   "id": "d4e739f5",
   "metadata": {},
   "source": [
    "#### Shape of the dataset"
   ]
  },
  {
   "cell_type": "markdown",
   "id": "a3365eb7",
   "metadata": {},
   "source": [
    "    1 Company- String -Laptop Manufacturer\n",
    "    2 Product -String -Brand and Model\n",
    "    3 TypeName -String -Type (Notebook, Ultrabook, Gaming, etc.)\n",
    "    4 Inches -Numeric- Screen Size\n",
    "    5 ScreenResolution -String- Screen Resolution\n",
    "    6 Cpu- String -Central Processing Unit (CPU)\n",
    "    7 Ram -String- Laptop RAM\n",
    "    8 Memory -String- Hard Disk / SSD Memory\n",
    "    9 GPU -String- Graphics Processing Units (GPU)\n",
    "    10 OpSys -String- Operating System\n",
    "    11 Weight -String- Laptop Weight\n",
    "    12 Price_euros -Numeric- Price (Euro)"
   ]
  },
  {
   "cell_type": "markdown",
   "id": "849146d4",
   "metadata": {},
   "source": [
    "### 3.1 Checking Missing values"
   ]
  },
  {
   "cell_type": "code",
   "execution_count": 4,
   "id": "432533c7",
   "metadata": {},
   "outputs": [
    {
     "data": {
      "text/plain": [
       "laptop_ID           0\n",
       "Company             0\n",
       "Product             0\n",
       "TypeName            0\n",
       "Inches              0\n",
       "ScreenResolution    0\n",
       "Cpu                 0\n",
       "Ram                 0\n",
       "Memory              0\n",
       "Gpu                 0\n",
       "OpSys               0\n",
       "Weight              0\n",
       "Price_euros         0\n",
       "dtype: int64"
      ]
     },
     "execution_count": 4,
     "metadata": {},
     "output_type": "execute_result"
    }
   ],
   "source": [
    "df.isna().sum()"
   ]
  },
  {
   "cell_type": "markdown",
   "id": "0b9879ba",
   "metadata": {},
   "source": [
    "#### There are no missing values in the data set"
   ]
  },
  {
   "cell_type": "markdown",
   "id": "570d2cd8",
   "metadata": {},
   "source": [
    "### 3.2 Checking Duplicates"
   ]
  },
  {
   "cell_type": "code",
   "execution_count": 5,
   "id": "fb1dbe4c",
   "metadata": {},
   "outputs": [
    {
     "data": {
      "text/plain": [
       "0"
      ]
     },
     "execution_count": 5,
     "metadata": {},
     "output_type": "execute_result"
    }
   ],
   "source": [
    "df.duplicated().sum()"
   ]
  },
  {
   "cell_type": "markdown",
   "id": "cb3a7967",
   "metadata": {},
   "source": [
    "#### There are no duplicates  values in the data set"
   ]
  },
  {
   "cell_type": "markdown",
   "id": "dc8f2a18",
   "metadata": {},
   "source": [
    "### 3.3 Check data types"
   ]
  },
  {
   "cell_type": "code",
   "execution_count": 6,
   "id": "750e8dd7",
   "metadata": {},
   "outputs": [
    {
     "name": "stdout",
     "output_type": "stream",
     "text": [
      "<class 'pandas.core.frame.DataFrame'>\n",
      "RangeIndex: 1303 entries, 0 to 1302\n",
      "Data columns (total 13 columns):\n",
      " #   Column            Non-Null Count  Dtype  \n",
      "---  ------            --------------  -----  \n",
      " 0   laptop_ID         1303 non-null   int64  \n",
      " 1   Company           1303 non-null   object \n",
      " 2   Product           1303 non-null   object \n",
      " 3   TypeName          1303 non-null   object \n",
      " 4   Inches            1303 non-null   float64\n",
      " 5   ScreenResolution  1303 non-null   object \n",
      " 6   Cpu               1303 non-null   object \n",
      " 7   Ram               1303 non-null   object \n",
      " 8   Memory            1303 non-null   object \n",
      " 9   Gpu               1303 non-null   object \n",
      " 10  OpSys             1303 non-null   object \n",
      " 11  Weight            1303 non-null   object \n",
      " 12  Price_euros       1303 non-null   float64\n",
      "dtypes: float64(2), int64(1), object(10)\n",
      "memory usage: 132.5+ KB\n"
     ]
    }
   ],
   "source": [
    "# Null and Dtypes\n",
    "df.info()"
   ]
  },
  {
   "cell_type": "markdown",
   "id": "74b6a281",
   "metadata": {},
   "source": [
    "### 3.4 Checking the number of unique values of each column"
   ]
  },
  {
   "cell_type": "code",
   "execution_count": 7,
   "id": "c694f659",
   "metadata": {},
   "outputs": [
    {
     "data": {
      "text/plain": [
       "laptop_ID           1303\n",
       "Company               19\n",
       "Product              618\n",
       "TypeName               6\n",
       "Inches                18\n",
       "ScreenResolution      40\n",
       "Cpu                  118\n",
       "Ram                    9\n",
       "Memory                39\n",
       "Gpu                  110\n",
       "OpSys                  9\n",
       "Weight               179\n",
       "Price_euros          791\n",
       "dtype: int64"
      ]
     },
     "execution_count": 7,
     "metadata": {},
     "output_type": "execute_result"
    }
   ],
   "source": [
    "df.nunique()"
   ]
  },
  {
   "cell_type": "markdown",
   "id": "c329b984",
   "metadata": {},
   "source": [
    "### 3.5 Checking statistics of data set"
   ]
  },
  {
   "cell_type": "code",
   "execution_count": 8,
   "id": "27546c79",
   "metadata": {},
   "outputs": [
    {
     "data": {
      "text/html": [
       "<div>\n",
       "<style scoped>\n",
       "    .dataframe tbody tr th:only-of-type {\n",
       "        vertical-align: middle;\n",
       "    }\n",
       "\n",
       "    .dataframe tbody tr th {\n",
       "        vertical-align: top;\n",
       "    }\n",
       "\n",
       "    .dataframe thead th {\n",
       "        text-align: right;\n",
       "    }\n",
       "</style>\n",
       "<table border=\"1\" class=\"dataframe\">\n",
       "  <thead>\n",
       "    <tr style=\"text-align: right;\">\n",
       "      <th></th>\n",
       "      <th>laptop_ID</th>\n",
       "      <th>Inches</th>\n",
       "      <th>Price_euros</th>\n",
       "    </tr>\n",
       "  </thead>\n",
       "  <tbody>\n",
       "    <tr>\n",
       "      <th>count</th>\n",
       "      <td>1303.000000</td>\n",
       "      <td>1303.000000</td>\n",
       "      <td>1303.000000</td>\n",
       "    </tr>\n",
       "    <tr>\n",
       "      <th>mean</th>\n",
       "      <td>660.155794</td>\n",
       "      <td>15.017191</td>\n",
       "      <td>1123.686992</td>\n",
       "    </tr>\n",
       "    <tr>\n",
       "      <th>std</th>\n",
       "      <td>381.172104</td>\n",
       "      <td>1.426304</td>\n",
       "      <td>699.009043</td>\n",
       "    </tr>\n",
       "    <tr>\n",
       "      <th>min</th>\n",
       "      <td>1.000000</td>\n",
       "      <td>10.100000</td>\n",
       "      <td>174.000000</td>\n",
       "    </tr>\n",
       "    <tr>\n",
       "      <th>25%</th>\n",
       "      <td>331.500000</td>\n",
       "      <td>14.000000</td>\n",
       "      <td>599.000000</td>\n",
       "    </tr>\n",
       "    <tr>\n",
       "      <th>50%</th>\n",
       "      <td>659.000000</td>\n",
       "      <td>15.600000</td>\n",
       "      <td>977.000000</td>\n",
       "    </tr>\n",
       "    <tr>\n",
       "      <th>75%</th>\n",
       "      <td>990.500000</td>\n",
       "      <td>15.600000</td>\n",
       "      <td>1487.880000</td>\n",
       "    </tr>\n",
       "    <tr>\n",
       "      <th>max</th>\n",
       "      <td>1320.000000</td>\n",
       "      <td>18.400000</td>\n",
       "      <td>6099.000000</td>\n",
       "    </tr>\n",
       "  </tbody>\n",
       "</table>\n",
       "</div>"
      ],
      "text/plain": [
       "         laptop_ID       Inches  Price_euros\n",
       "count  1303.000000  1303.000000  1303.000000\n",
       "mean    660.155794    15.017191  1123.686992\n",
       "std     381.172104     1.426304   699.009043\n",
       "min       1.000000    10.100000   174.000000\n",
       "25%     331.500000    14.000000   599.000000\n",
       "50%     659.000000    15.600000   977.000000\n",
       "75%     990.500000    15.600000  1487.880000\n",
       "max    1320.000000    18.400000  6099.000000"
      ]
     },
     "execution_count": 8,
     "metadata": {},
     "output_type": "execute_result"
    }
   ],
   "source": [
    "df.describe()"
   ]
  },
  {
   "cell_type": "markdown",
   "id": "a99d1895",
   "metadata": {},
   "source": [
    "### 3.7 Exploring Data"
   ]
  },
  {
   "cell_type": "code",
   "execution_count": 9,
   "id": "5d232c90",
   "metadata": {},
   "outputs": [
    {
     "data": {
      "text/html": [
       "<div>\n",
       "<style scoped>\n",
       "    .dataframe tbody tr th:only-of-type {\n",
       "        vertical-align: middle;\n",
       "    }\n",
       "\n",
       "    .dataframe tbody tr th {\n",
       "        vertical-align: top;\n",
       "    }\n",
       "\n",
       "    .dataframe thead th {\n",
       "        text-align: right;\n",
       "    }\n",
       "</style>\n",
       "<table border=\"1\" class=\"dataframe\">\n",
       "  <thead>\n",
       "    <tr style=\"text-align: right;\">\n",
       "      <th></th>\n",
       "      <th>laptop_ID</th>\n",
       "      <th>Company</th>\n",
       "      <th>Product</th>\n",
       "      <th>TypeName</th>\n",
       "      <th>Inches</th>\n",
       "      <th>ScreenResolution</th>\n",
       "      <th>Cpu</th>\n",
       "      <th>Ram</th>\n",
       "      <th>Memory</th>\n",
       "      <th>Gpu</th>\n",
       "      <th>OpSys</th>\n",
       "      <th>Weight</th>\n",
       "      <th>Price_euros</th>\n",
       "    </tr>\n",
       "  </thead>\n",
       "  <tbody>\n",
       "    <tr>\n",
       "      <th>137</th>\n",
       "      <td>140</td>\n",
       "      <td>Asus</td>\n",
       "      <td>FX753VD-GC086T (i5-7300HQ/8GB/1TB</td>\n",
       "      <td>Gaming</td>\n",
       "      <td>17.3</td>\n",
       "      <td>Full HD 1920x1080</td>\n",
       "      <td>Intel Core i5 7300HQ 2.5GHz</td>\n",
       "      <td>8GB</td>\n",
       "      <td>128GB SSD +  1TB HDD</td>\n",
       "      <td>Nvidia GeForce GTX 1050</td>\n",
       "      <td>Windows 10</td>\n",
       "      <td>3kg</td>\n",
       "      <td>938.0</td>\n",
       "    </tr>\n",
       "    <tr>\n",
       "      <th>701</th>\n",
       "      <td>709</td>\n",
       "      <td>Lenovo</td>\n",
       "      <td>IdeaPad 320-15AST</td>\n",
       "      <td>Notebook</td>\n",
       "      <td>15.6</td>\n",
       "      <td>Full HD 1920x1080</td>\n",
       "      <td>AMD A9-Series 9420 2.9GHz</td>\n",
       "      <td>4GB</td>\n",
       "      <td>256GB SSD</td>\n",
       "      <td>AMD Radeon 530</td>\n",
       "      <td>Windows 10</td>\n",
       "      <td>2.2kg</td>\n",
       "      <td>399.0</td>\n",
       "    </tr>\n",
       "    <tr>\n",
       "      <th>348</th>\n",
       "      <td>354</td>\n",
       "      <td>Asus</td>\n",
       "      <td>VivoBook Flip</td>\n",
       "      <td>2 in 1 Convertible</td>\n",
       "      <td>11.6</td>\n",
       "      <td>Touchscreen 1366x768</td>\n",
       "      <td>Intel Celeron Dual Core N3350 1.1GHz</td>\n",
       "      <td>4GB</td>\n",
       "      <td>32GB Flash Storage</td>\n",
       "      <td>Intel HD Graphics 500</td>\n",
       "      <td>Windows 10</td>\n",
       "      <td>1.5kg</td>\n",
       "      <td>375.0</td>\n",
       "    </tr>\n",
       "    <tr>\n",
       "      <th>643</th>\n",
       "      <td>651</td>\n",
       "      <td>Asus</td>\n",
       "      <td>ROG GL553VE-FY022</td>\n",
       "      <td>Gaming</td>\n",
       "      <td>15.6</td>\n",
       "      <td>IPS Panel Full HD 1920x1080</td>\n",
       "      <td>Intel Core i7 7700HQ 2.8GHz</td>\n",
       "      <td>8GB</td>\n",
       "      <td>1TB HDD</td>\n",
       "      <td>Nvidia GeForce GTX 1050 Ti</td>\n",
       "      <td>No OS</td>\n",
       "      <td>2.5kg</td>\n",
       "      <td>1169.0</td>\n",
       "    </tr>\n",
       "    <tr>\n",
       "      <th>451</th>\n",
       "      <td>458</td>\n",
       "      <td>Dell</td>\n",
       "      <td>Precision 3520</td>\n",
       "      <td>Workstation</td>\n",
       "      <td>15.6</td>\n",
       "      <td>IPS Panel Full HD 1920x1080</td>\n",
       "      <td>Intel Core i7 6820HQ 2.7GHz</td>\n",
       "      <td>16GB</td>\n",
       "      <td>256GB SSD</td>\n",
       "      <td>Nvidia Quadro M620</td>\n",
       "      <td>Windows 10</td>\n",
       "      <td>2.17kg</td>\n",
       "      <td>1975.0</td>\n",
       "    </tr>\n",
       "    <tr>\n",
       "      <th>234</th>\n",
       "      <td>239</td>\n",
       "      <td>Acer</td>\n",
       "      <td>Aspire R7</td>\n",
       "      <td>2 in 1 Convertible</td>\n",
       "      <td>13.3</td>\n",
       "      <td>IPS Panel Full HD / Touchscreen 1920x1080</td>\n",
       "      <td>Intel Core i5 6200U 2.3GHz</td>\n",
       "      <td>8GB</td>\n",
       "      <td>256GB SSD</td>\n",
       "      <td>Intel HD Graphics 520</td>\n",
       "      <td>Windows 10</td>\n",
       "      <td>1.6kg</td>\n",
       "      <td>689.0</td>\n",
       "    </tr>\n",
       "    <tr>\n",
       "      <th>1293</th>\n",
       "      <td>1311</td>\n",
       "      <td>Lenovo</td>\n",
       "      <td>IdeaPad Y700-15ISK</td>\n",
       "      <td>Notebook</td>\n",
       "      <td>15.6</td>\n",
       "      <td>IPS Panel Full HD 1920x1080</td>\n",
       "      <td>Intel Core i7 6700HQ 2.6GHz</td>\n",
       "      <td>8GB</td>\n",
       "      <td>1TB HDD</td>\n",
       "      <td>Nvidia GeForce GTX 960M</td>\n",
       "      <td>Windows 10</td>\n",
       "      <td>2.6kg</td>\n",
       "      <td>899.0</td>\n",
       "    </tr>\n",
       "    <tr>\n",
       "      <th>225</th>\n",
       "      <td>230</td>\n",
       "      <td>Acer</td>\n",
       "      <td>Aspire E5-576G</td>\n",
       "      <td>Notebook</td>\n",
       "      <td>15.6</td>\n",
       "      <td>Full HD 1920x1080</td>\n",
       "      <td>Intel Core i7 7500U 2.7GHz</td>\n",
       "      <td>8GB</td>\n",
       "      <td>256GB SSD</td>\n",
       "      <td>Nvidia GeForce 940MX</td>\n",
       "      <td>Windows 10</td>\n",
       "      <td>2.2kg</td>\n",
       "      <td>832.0</td>\n",
       "    </tr>\n",
       "    <tr>\n",
       "      <th>1274</th>\n",
       "      <td>1292</td>\n",
       "      <td>Asus</td>\n",
       "      <td>X553SA-XX031T (N3050/4GB/500GB/W10)</td>\n",
       "      <td>Notebook</td>\n",
       "      <td>15.6</td>\n",
       "      <td>1366x768</td>\n",
       "      <td>Intel Celeron Dual Core N3050 1.6GHz</td>\n",
       "      <td>4GB</td>\n",
       "      <td>500GB HDD</td>\n",
       "      <td>Intel HD Graphics</td>\n",
       "      <td>Windows 10</td>\n",
       "      <td>2.2kg</td>\n",
       "      <td>369.0</td>\n",
       "    </tr>\n",
       "    <tr>\n",
       "      <th>385</th>\n",
       "      <td>391</td>\n",
       "      <td>Lenovo</td>\n",
       "      <td>Thinkpad X1</td>\n",
       "      <td>Ultrabook</td>\n",
       "      <td>14.0</td>\n",
       "      <td>IPS Panel 2560x1440</td>\n",
       "      <td>Intel Core i7 7500U 2.7GHz</td>\n",
       "      <td>8GB</td>\n",
       "      <td>512GB SSD</td>\n",
       "      <td>Intel HD Graphics 620</td>\n",
       "      <td>Windows 10</td>\n",
       "      <td>1.13kg</td>\n",
       "      <td>2282.0</td>\n",
       "    </tr>\n",
       "  </tbody>\n",
       "</table>\n",
       "</div>"
      ],
      "text/plain": [
       "      laptop_ID Company                              Product  \\\n",
       "137         140    Asus    FX753VD-GC086T (i5-7300HQ/8GB/1TB   \n",
       "701         709  Lenovo                    IdeaPad 320-15AST   \n",
       "348         354    Asus                        VivoBook Flip   \n",
       "643         651    Asus                    ROG GL553VE-FY022   \n",
       "451         458    Dell                       Precision 3520   \n",
       "234         239    Acer                            Aspire R7   \n",
       "1293       1311  Lenovo                   IdeaPad Y700-15ISK   \n",
       "225         230    Acer                       Aspire E5-576G   \n",
       "1274       1292    Asus  X553SA-XX031T (N3050/4GB/500GB/W10)   \n",
       "385         391  Lenovo                          Thinkpad X1   \n",
       "\n",
       "                TypeName  Inches                           ScreenResolution  \\\n",
       "137               Gaming    17.3                          Full HD 1920x1080   \n",
       "701             Notebook    15.6                          Full HD 1920x1080   \n",
       "348   2 in 1 Convertible    11.6                       Touchscreen 1366x768   \n",
       "643               Gaming    15.6                IPS Panel Full HD 1920x1080   \n",
       "451          Workstation    15.6                IPS Panel Full HD 1920x1080   \n",
       "234   2 in 1 Convertible    13.3  IPS Panel Full HD / Touchscreen 1920x1080   \n",
       "1293            Notebook    15.6                IPS Panel Full HD 1920x1080   \n",
       "225             Notebook    15.6                          Full HD 1920x1080   \n",
       "1274            Notebook    15.6                                   1366x768   \n",
       "385            Ultrabook    14.0                        IPS Panel 2560x1440   \n",
       "\n",
       "                                       Cpu   Ram                Memory  \\\n",
       "137            Intel Core i5 7300HQ 2.5GHz   8GB  128GB SSD +  1TB HDD   \n",
       "701              AMD A9-Series 9420 2.9GHz   4GB             256GB SSD   \n",
       "348   Intel Celeron Dual Core N3350 1.1GHz   4GB    32GB Flash Storage   \n",
       "643            Intel Core i7 7700HQ 2.8GHz   8GB               1TB HDD   \n",
       "451            Intel Core i7 6820HQ 2.7GHz  16GB             256GB SSD   \n",
       "234             Intel Core i5 6200U 2.3GHz   8GB             256GB SSD   \n",
       "1293           Intel Core i7 6700HQ 2.6GHz   8GB               1TB HDD   \n",
       "225             Intel Core i7 7500U 2.7GHz   8GB             256GB SSD   \n",
       "1274  Intel Celeron Dual Core N3050 1.6GHz   4GB             500GB HDD   \n",
       "385             Intel Core i7 7500U 2.7GHz   8GB             512GB SSD   \n",
       "\n",
       "                             Gpu       OpSys  Weight  Price_euros  \n",
       "137      Nvidia GeForce GTX 1050  Windows 10     3kg        938.0  \n",
       "701               AMD Radeon 530  Windows 10   2.2kg        399.0  \n",
       "348        Intel HD Graphics 500  Windows 10   1.5kg        375.0  \n",
       "643   Nvidia GeForce GTX 1050 Ti       No OS   2.5kg       1169.0  \n",
       "451           Nvidia Quadro M620  Windows 10  2.17kg       1975.0  \n",
       "234        Intel HD Graphics 520  Windows 10   1.6kg        689.0  \n",
       "1293     Nvidia GeForce GTX 960M  Windows 10   2.6kg        899.0  \n",
       "225         Nvidia GeForce 940MX  Windows 10   2.2kg        832.0  \n",
       "1274           Intel HD Graphics  Windows 10   2.2kg        369.0  \n",
       "385        Intel HD Graphics 620  Windows 10  1.13kg       2282.0  "
      ]
     },
     "execution_count": 9,
     "metadata": {},
     "output_type": "execute_result"
    }
   ],
   "source": [
    "df.sample(10)"
   ]
  },
  {
   "cell_type": "markdown",
   "id": "4f3535ea",
   "metadata": {},
   "source": [
    "#### Removing Laptop_ID column Which has no value"
   ]
  },
  {
   "cell_type": "code",
   "execution_count": 10,
   "id": "b68289c9",
   "metadata": {},
   "outputs": [],
   "source": [
    "df=df.drop('laptop_ID',axis=1)"
   ]
  },
  {
   "cell_type": "code",
   "execution_count": 11,
   "id": "8e87348a",
   "metadata": {},
   "outputs": [
    {
     "data": {
      "text/html": [
       "<div>\n",
       "<style scoped>\n",
       "    .dataframe tbody tr th:only-of-type {\n",
       "        vertical-align: middle;\n",
       "    }\n",
       "\n",
       "    .dataframe tbody tr th {\n",
       "        vertical-align: top;\n",
       "    }\n",
       "\n",
       "    .dataframe thead th {\n",
       "        text-align: right;\n",
       "    }\n",
       "</style>\n",
       "<table border=\"1\" class=\"dataframe\">\n",
       "  <thead>\n",
       "    <tr style=\"text-align: right;\">\n",
       "      <th></th>\n",
       "      <th>Company</th>\n",
       "      <th>Product</th>\n",
       "      <th>TypeName</th>\n",
       "      <th>Inches</th>\n",
       "      <th>ScreenResolution</th>\n",
       "      <th>Cpu</th>\n",
       "      <th>Ram</th>\n",
       "      <th>Memory</th>\n",
       "      <th>Gpu</th>\n",
       "      <th>OpSys</th>\n",
       "      <th>Weight</th>\n",
       "      <th>Price_euros</th>\n",
       "    </tr>\n",
       "  </thead>\n",
       "  <tbody>\n",
       "    <tr>\n",
       "      <th>0</th>\n",
       "      <td>Apple</td>\n",
       "      <td>MacBook Pro</td>\n",
       "      <td>Ultrabook</td>\n",
       "      <td>13.3</td>\n",
       "      <td>IPS Panel Retina Display 2560x1600</td>\n",
       "      <td>Intel Core i5 2.3GHz</td>\n",
       "      <td>8GB</td>\n",
       "      <td>128GB SSD</td>\n",
       "      <td>Intel Iris Plus Graphics 640</td>\n",
       "      <td>macOS</td>\n",
       "      <td>1.37kg</td>\n",
       "      <td>1339.69</td>\n",
       "    </tr>\n",
       "    <tr>\n",
       "      <th>1</th>\n",
       "      <td>Apple</td>\n",
       "      <td>Macbook Air</td>\n",
       "      <td>Ultrabook</td>\n",
       "      <td>13.3</td>\n",
       "      <td>1440x900</td>\n",
       "      <td>Intel Core i5 1.8GHz</td>\n",
       "      <td>8GB</td>\n",
       "      <td>128GB Flash Storage</td>\n",
       "      <td>Intel HD Graphics 6000</td>\n",
       "      <td>macOS</td>\n",
       "      <td>1.34kg</td>\n",
       "      <td>898.94</td>\n",
       "    </tr>\n",
       "    <tr>\n",
       "      <th>2</th>\n",
       "      <td>HP</td>\n",
       "      <td>250 G6</td>\n",
       "      <td>Notebook</td>\n",
       "      <td>15.6</td>\n",
       "      <td>Full HD 1920x1080</td>\n",
       "      <td>Intel Core i5 7200U 2.5GHz</td>\n",
       "      <td>8GB</td>\n",
       "      <td>256GB SSD</td>\n",
       "      <td>Intel HD Graphics 620</td>\n",
       "      <td>No OS</td>\n",
       "      <td>1.86kg</td>\n",
       "      <td>575.00</td>\n",
       "    </tr>\n",
       "    <tr>\n",
       "      <th>3</th>\n",
       "      <td>Apple</td>\n",
       "      <td>MacBook Pro</td>\n",
       "      <td>Ultrabook</td>\n",
       "      <td>15.4</td>\n",
       "      <td>IPS Panel Retina Display 2880x1800</td>\n",
       "      <td>Intel Core i7 2.7GHz</td>\n",
       "      <td>16GB</td>\n",
       "      <td>512GB SSD</td>\n",
       "      <td>AMD Radeon Pro 455</td>\n",
       "      <td>macOS</td>\n",
       "      <td>1.83kg</td>\n",
       "      <td>2537.45</td>\n",
       "    </tr>\n",
       "    <tr>\n",
       "      <th>4</th>\n",
       "      <td>Apple</td>\n",
       "      <td>MacBook Pro</td>\n",
       "      <td>Ultrabook</td>\n",
       "      <td>13.3</td>\n",
       "      <td>IPS Panel Retina Display 2560x1600</td>\n",
       "      <td>Intel Core i5 3.1GHz</td>\n",
       "      <td>8GB</td>\n",
       "      <td>256GB SSD</td>\n",
       "      <td>Intel Iris Plus Graphics 650</td>\n",
       "      <td>macOS</td>\n",
       "      <td>1.37kg</td>\n",
       "      <td>1803.60</td>\n",
       "    </tr>\n",
       "  </tbody>\n",
       "</table>\n",
       "</div>"
      ],
      "text/plain": [
       "  Company      Product   TypeName  Inches                    ScreenResolution  \\\n",
       "0   Apple  MacBook Pro  Ultrabook    13.3  IPS Panel Retina Display 2560x1600   \n",
       "1   Apple  Macbook Air  Ultrabook    13.3                            1440x900   \n",
       "2      HP       250 G6   Notebook    15.6                   Full HD 1920x1080   \n",
       "3   Apple  MacBook Pro  Ultrabook    15.4  IPS Panel Retina Display 2880x1800   \n",
       "4   Apple  MacBook Pro  Ultrabook    13.3  IPS Panel Retina Display 2560x1600   \n",
       "\n",
       "                          Cpu   Ram               Memory  \\\n",
       "0        Intel Core i5 2.3GHz   8GB            128GB SSD   \n",
       "1        Intel Core i5 1.8GHz   8GB  128GB Flash Storage   \n",
       "2  Intel Core i5 7200U 2.5GHz   8GB            256GB SSD   \n",
       "3        Intel Core i7 2.7GHz  16GB            512GB SSD   \n",
       "4        Intel Core i5 3.1GHz   8GB            256GB SSD   \n",
       "\n",
       "                            Gpu  OpSys  Weight  Price_euros  \n",
       "0  Intel Iris Plus Graphics 640  macOS  1.37kg      1339.69  \n",
       "1        Intel HD Graphics 6000  macOS  1.34kg       898.94  \n",
       "2         Intel HD Graphics 620  No OS  1.86kg       575.00  \n",
       "3            AMD Radeon Pro 455  macOS  1.83kg      2537.45  \n",
       "4  Intel Iris Plus Graphics 650  macOS  1.37kg      1803.60  "
      ]
     },
     "execution_count": 11,
     "metadata": {},
     "output_type": "execute_result"
    }
   ],
   "source": [
    "df.head()"
   ]
  },
  {
   "cell_type": "markdown",
   "id": "69dafee7",
   "metadata": {},
   "source": [
    "#### Scren Resolution needs to be changed into multiple category columns"
   ]
  },
  {
   "cell_type": "code",
   "execution_count": 12,
   "id": "ad1c8bb4",
   "metadata": {},
   "outputs": [],
   "source": [
    "df['Touchscreen'] = df['ScreenResolution'].apply(lambda x : 1 if 'Touchscreen' in x else 0)"
   ]
  },
  {
   "cell_type": "code",
   "execution_count": 13,
   "id": "2e866b61",
   "metadata": {},
   "outputs": [
    {
     "data": {
      "image/png": "[encoded data removed]",
      "text/plain": [
       "<Figure size 640x480 with 1 Axes>"
      ]
     },
     "metadata": {},
     "output_type": "display_data"
    }
   ],
   "source": [
    "sns.countplot(x='Touchscreen', data=df, order=df['Touchscreen'].value_counts().index)\n",
    "plt.xticks(rotation=0, ha='right')\n",
    "plt.show()"
   ]
  },
  {
   "cell_type": "code",
   "execution_count": 14,
   "id": "86988731",
   "metadata": {},
   "outputs": [],
   "source": [
    "# IPS or not\n",
    "df['IPS'] = df['ScreenResolution'].apply(lambda x: 1 if 'IPS' in x else 0)"
   ]
  },
  {
   "cell_type": "code",
   "execution_count": 15,
   "id": "75184e9a",
   "metadata": {},
   "outputs": [
    {
     "data": {
      "image/png": "[encoded data removed]",
      "text/plain": [
       "<Figure size 640x480 with 1 Axes>"
      ]
     },
     "metadata": {},
     "output_type": "display_data"
    }
   ],
   "source": [
    "sns.countplot(x='IPS', data=df, order=df['IPS'].value_counts().index)\n",
    "plt.xticks(rotation=0, ha='right')\n",
    "plt.show()"
   ]
  },
  {
   "cell_type": "code",
   "execution_count": 16,
   "id": "e9f36c68",
   "metadata": {},
   "outputs": [],
   "source": [
    "# x_Resolution\n",
    "new = df['ScreenResolution'].str.strip().str.split('x',expand=True)\n",
    "x_res = new[0].str[-4:]\n",
    "df['x_res'] = x_res\n",
    "df['y_res'] = new[1]\n",
    "df['x_res']=df['x_res'].astype(int)\n",
    "df['y_res']=df['y_res'].astype(int)"
   ]
  },
  {
   "cell_type": "code",
   "execution_count": 17,
   "id": "0f4f5c3e",
   "metadata": {},
   "outputs": [],
   "source": [
    "df['ppi'] = ((df['x_res']**2 + df['y_res']**2)**.5)/df['Inches']"
   ]
  },
  {
   "cell_type": "code",
   "execution_count": 18,
   "id": "22656ba2",
   "metadata": {},
   "outputs": [
    {
     "data": {
      "text/html": [
       "<div>\n",
       "<style scoped>\n",
       "    .dataframe tbody tr th:only-of-type {\n",
       "        vertical-align: middle;\n",
       "    }\n",
       "\n",
       "    .dataframe tbody tr th {\n",
       "        vertical-align: top;\n",
       "    }\n",
       "\n",
       "    .dataframe thead th {\n",
       "        text-align: right;\n",
       "    }\n",
       "</style>\n",
       "<table border=\"1\" class=\"dataframe\">\n",
       "  <thead>\n",
       "    <tr style=\"text-align: right;\">\n",
       "      <th></th>\n",
       "      <th>Company</th>\n",
       "      <th>Product</th>\n",
       "      <th>TypeName</th>\n",
       "      <th>Inches</th>\n",
       "      <th>ScreenResolution</th>\n",
       "      <th>Cpu</th>\n",
       "      <th>Ram</th>\n",
       "      <th>Memory</th>\n",
       "      <th>Gpu</th>\n",
       "      <th>OpSys</th>\n",
       "      <th>Weight</th>\n",
       "      <th>Price_euros</th>\n",
       "      <th>Touchscreen</th>\n",
       "      <th>IPS</th>\n",
       "      <th>x_res</th>\n",
       "      <th>y_res</th>\n",
       "      <th>ppi</th>\n",
       "    </tr>\n",
       "  </thead>\n",
       "  <tbody>\n",
       "    <tr>\n",
       "      <th>770</th>\n",
       "      <td>Dell</td>\n",
       "      <td>Inspiron 5567</td>\n",
       "      <td>Notebook</td>\n",
       "      <td>15.6</td>\n",
       "      <td>Full HD 1920x1080</td>\n",
       "      <td>Intel Core i7 7500U 2.7GHz</td>\n",
       "      <td>16GB</td>\n",
       "      <td>256GB SSD</td>\n",
       "      <td>AMD Radeon R7 M445</td>\n",
       "      <td>Windows 10</td>\n",
       "      <td>2.3kg</td>\n",
       "      <td>1181.27</td>\n",
       "      <td>0</td>\n",
       "      <td>0</td>\n",
       "      <td>1920</td>\n",
       "      <td>1080</td>\n",
       "      <td>141.211998</td>\n",
       "    </tr>\n",
       "    <tr>\n",
       "      <th>966</th>\n",
       "      <td>Dell</td>\n",
       "      <td>Latitude 5580</td>\n",
       "      <td>Notebook</td>\n",
       "      <td>15.6</td>\n",
       "      <td>1366x768</td>\n",
       "      <td>Intel Core i5 7200U 2.5GHz</td>\n",
       "      <td>4GB</td>\n",
       "      <td>500GB HDD</td>\n",
       "      <td>Intel HD Graphics 620</td>\n",
       "      <td>Windows 10</td>\n",
       "      <td>1.9kg</td>\n",
       "      <td>825.00</td>\n",
       "      <td>0</td>\n",
       "      <td>0</td>\n",
       "      <td>1366</td>\n",
       "      <td>768</td>\n",
       "      <td>100.454670</td>\n",
       "    </tr>\n",
       "  </tbody>\n",
       "</table>\n",
       "</div>"
      ],
      "text/plain": [
       "    Company        Product  TypeName  Inches   ScreenResolution  \\\n",
       "770    Dell  Inspiron 5567  Notebook    15.6  Full HD 1920x1080   \n",
       "966    Dell  Latitude 5580  Notebook    15.6           1366x768   \n",
       "\n",
       "                            Cpu   Ram     Memory                    Gpu  \\\n",
       "770  Intel Core i7 7500U 2.7GHz  16GB  256GB SSD     AMD Radeon R7 M445   \n",
       "966  Intel Core i5 7200U 2.5GHz   4GB  500GB HDD  Intel HD Graphics 620   \n",
       "\n",
       "          OpSys Weight  Price_euros  Touchscreen  IPS  x_res  y_res  \\\n",
       "770  Windows 10  2.3kg      1181.27            0    0   1920   1080   \n",
       "966  Windows 10  1.9kg       825.00            0    0   1366    768   \n",
       "\n",
       "            ppi  \n",
       "770  141.211998  \n",
       "966  100.454670  "
      ]
     },
     "execution_count": 18,
     "metadata": {},
     "output_type": "execute_result"
    }
   ],
   "source": [
    "df.sample(2)"
   ]
  },
  {
   "cell_type": "markdown",
   "id": "426a698f",
   "metadata": {},
   "source": [
    "#### Removing ScreenResolution,x_res,y_res,Inches columns because we already made Touchscreen,IPS,ppi column using them"
   ]
  },
  {
   "cell_type": "code",
   "execution_count": 19,
   "id": "a49d41ab",
   "metadata": {},
   "outputs": [],
   "source": [
    "df.drop(columns=['ScreenResolution','Inches','x_res','y_res'],axis=1,inplace=True)"
   ]
  },
  {
   "cell_type": "code",
   "execution_count": 20,
   "id": "0f0377c3",
   "metadata": {},
   "outputs": [
    {
     "data": {
      "text/html": [
       "<div>\n",
       "<style scoped>\n",
       "    .dataframe tbody tr th:only-of-type {\n",
       "        vertical-align: middle;\n",
       "    }\n",
       "\n",
       "    .dataframe tbody tr th {\n",
       "        vertical-align: top;\n",
       "    }\n",
       "\n",
       "    .dataframe thead th {\n",
       "        text-align: right;\n",
       "    }\n",
       "</style>\n",
       "<table border=\"1\" class=\"dataframe\">\n",
       "  <thead>\n",
       "    <tr style=\"text-align: right;\">\n",
       "      <th></th>\n",
       "      <th>Company</th>\n",
       "      <th>Product</th>\n",
       "      <th>TypeName</th>\n",
       "      <th>Cpu</th>\n",
       "      <th>Ram</th>\n",
       "      <th>Memory</th>\n",
       "      <th>Gpu</th>\n",
       "      <th>OpSys</th>\n",
       "      <th>Weight</th>\n",
       "      <th>Price_euros</th>\n",
       "      <th>Touchscreen</th>\n",
       "      <th>IPS</th>\n",
       "      <th>ppi</th>\n",
       "    </tr>\n",
       "  </thead>\n",
       "  <tbody>\n",
       "    <tr>\n",
       "      <th>518</th>\n",
       "      <td>HP</td>\n",
       "      <td>Probook 450</td>\n",
       "      <td>Notebook</td>\n",
       "      <td>Intel Core i5 7200U 2.5GHz</td>\n",
       "      <td>8GB</td>\n",
       "      <td>256GB SSD</td>\n",
       "      <td>Nvidia GeForce 930MX</td>\n",
       "      <td>Windows 10</td>\n",
       "      <td>2.04kg</td>\n",
       "      <td>889.0</td>\n",
       "      <td>0</td>\n",
       "      <td>0</td>\n",
       "      <td>141.211998</td>\n",
       "    </tr>\n",
       "    <tr>\n",
       "      <th>879</th>\n",
       "      <td>HP</td>\n",
       "      <td>ProBook 450</td>\n",
       "      <td>Notebook</td>\n",
       "      <td>Intel Core i5 7200U 2.5GHz</td>\n",
       "      <td>4GB</td>\n",
       "      <td>256GB SSD</td>\n",
       "      <td>Intel HD Graphics 620</td>\n",
       "      <td>Windows 10</td>\n",
       "      <td>2.04kg</td>\n",
       "      <td>839.0</td>\n",
       "      <td>0</td>\n",
       "      <td>0</td>\n",
       "      <td>141.211998</td>\n",
       "    </tr>\n",
       "  </tbody>\n",
       "</table>\n",
       "</div>"
      ],
      "text/plain": [
       "    Company      Product  TypeName                         Cpu  Ram  \\\n",
       "518      HP  Probook 450  Notebook  Intel Core i5 7200U 2.5GHz  8GB   \n",
       "879      HP  ProBook 450  Notebook  Intel Core i5 7200U 2.5GHz  4GB   \n",
       "\n",
       "        Memory                    Gpu       OpSys  Weight  Price_euros  \\\n",
       "518  256GB SSD   Nvidia GeForce 930MX  Windows 10  2.04kg        889.0   \n",
       "879  256GB SSD  Intel HD Graphics 620  Windows 10  2.04kg        839.0   \n",
       "\n",
       "     Touchscreen  IPS         ppi  \n",
       "518            0    0  141.211998  \n",
       "879            0    0  141.211998  "
      ]
     },
     "execution_count": 20,
     "metadata": {},
     "output_type": "execute_result"
    }
   ],
   "source": [
    "df.sample(2)"
   ]
  },
  {
   "cell_type": "markdown",
   "id": "58bc30b3",
   "metadata": {},
   "source": [
    "#### Cpu column needs to be change into different category columns"
   ]
  },
  {
   "cell_type": "code",
   "execution_count": 21,
   "id": "96917692",
   "metadata": {},
   "outputs": [],
   "source": [
    "def cpu_categories(x):\n",
    "    if 'Intel Core i5' in x:\n",
    "        return 'Intel Core i5'\n",
    "    elif 'Intel Core i7' in x:\n",
    "        return 'Intel Core i7'\n",
    "    elif 'Intel Core i3' in x:\n",
    "        return 'Intel Core i3'\n",
    "    elif 'AMD' in x:\n",
    "        return 'AMD Processor'\n",
    "    else:\n",
    "        return 'Other Intel processors'"
   ]
  },
  {
   "cell_type": "code",
   "execution_count": 22,
   "id": "207a03ee",
   "metadata": {},
   "outputs": [],
   "source": [
    "df['Cpu_Brand'] = df['Cpu'].apply(cpu_categories)"
   ]
  },
  {
   "cell_type": "code",
   "execution_count": 23,
   "id": "2369fe10",
   "metadata": {},
   "outputs": [
    {
     "data": {
      "image/png": "[encoded data removed]",
      "text/plain": [
       "<Figure size 640x480 with 1 Axes>"
      ]
     },
     "metadata": {},
     "output_type": "display_data"
    }
   ],
   "source": [
    "sns.countplot(x='Cpu_Brand', data=df, order=df['Cpu_Brand'].value_counts().index)\n",
    "plt.xticks(rotation=45, ha='right')\n",
    "plt.show()"
   ]
  },
  {
   "cell_type": "markdown",
   "id": "7eabf45c",
   "metadata": {},
   "source": [
    "#### No longer needed Cpu column"
   ]
  },
  {
   "cell_type": "code",
   "execution_count": 24,
   "id": "aecf26e0",
   "metadata": {},
   "outputs": [],
   "source": [
    "df.drop(columns=['Cpu'],inplace=True)"
   ]
  },
  {
   "cell_type": "code",
   "execution_count": 25,
   "id": "c53c69cb",
   "metadata": {},
   "outputs": [
    {
     "data": {
      "text/html": [
       "<div>\n",
       "<style scoped>\n",
       "    .dataframe tbody tr th:only-of-type {\n",
       "        vertical-align: middle;\n",
       "    }\n",
       "\n",
       "    .dataframe tbody tr th {\n",
       "        vertical-align: top;\n",
       "    }\n",
       "\n",
       "    .dataframe thead th {\n",
       "        text-align: right;\n",
       "    }\n",
       "</style>\n",
       "<table border=\"1\" class=\"dataframe\">\n",
       "  <thead>\n",
       "    <tr style=\"text-align: right;\">\n",
       "      <th></th>\n",
       "      <th>Company</th>\n",
       "      <th>Product</th>\n",
       "      <th>TypeName</th>\n",
       "      <th>Ram</th>\n",
       "      <th>Memory</th>\n",
       "      <th>Gpu</th>\n",
       "      <th>OpSys</th>\n",
       "      <th>Weight</th>\n",
       "      <th>Price_euros</th>\n",
       "      <th>Touchscreen</th>\n",
       "      <th>IPS</th>\n",
       "      <th>ppi</th>\n",
       "      <th>Cpu_Brand</th>\n",
       "    </tr>\n",
       "  </thead>\n",
       "  <tbody>\n",
       "    <tr>\n",
       "      <th>1071</th>\n",
       "      <td>HP</td>\n",
       "      <td>ProBook 650</td>\n",
       "      <td>Notebook</td>\n",
       "      <td>4GB</td>\n",
       "      <td>500GB HDD</td>\n",
       "      <td>Intel HD Graphics 520</td>\n",
       "      <td>Windows 10</td>\n",
       "      <td>2.31kg</td>\n",
       "      <td>1199.0</td>\n",
       "      <td>0</td>\n",
       "      <td>0</td>\n",
       "      <td>100.45467</td>\n",
       "      <td>Intel Core i5</td>\n",
       "    </tr>\n",
       "  </tbody>\n",
       "</table>\n",
       "</div>"
      ],
      "text/plain": [
       "     Company      Product  TypeName  Ram     Memory                    Gpu  \\\n",
       "1071      HP  ProBook 650  Notebook  4GB  500GB HDD  Intel HD Graphics 520   \n",
       "\n",
       "           OpSys  Weight  Price_euros  Touchscreen  IPS        ppi  \\\n",
       "1071  Windows 10  2.31kg       1199.0            0    0  100.45467   \n",
       "\n",
       "          Cpu_Brand  \n",
       "1071  Intel Core i5  "
      ]
     },
     "execution_count": 25,
     "metadata": {},
     "output_type": "execute_result"
    }
   ],
   "source": [
    "df.sample(1)"
   ]
  },
  {
   "cell_type": "markdown",
   "id": "9dd6ee00",
   "metadata": {},
   "source": [
    "#### Ram can be made as a INT type feature"
   ]
  },
  {
   "cell_type": "code",
   "execution_count": 26,
   "id": "3576b8bb",
   "metadata": {},
   "outputs": [],
   "source": [
    "df['Ram'] = df['Ram'].str.replace('GB','')"
   ]
  },
  {
   "cell_type": "code",
   "execution_count": 27,
   "id": "bf21863b",
   "metadata": {},
   "outputs": [],
   "source": [
    "# changing data type\n",
    "df['Ram'] = df['Ram'].astype(int)"
   ]
  },
  {
   "cell_type": "markdown",
   "id": "a6e7163e",
   "metadata": {},
   "source": [
    "#### Memory"
   ]
  },
  {
   "cell_type": "code",
   "execution_count": 28,
   "id": "3cec6956",
   "metadata": {},
   "outputs": [
    {
     "data": {
      "text/plain": [
       "256GB SSD                        412\n",
       "1TB HDD                          223\n",
       "500GB HDD                        132\n",
       "512GB SSD                        118\n",
       "128GB SSD +  1TB HDD              94\n",
       "128GB SSD                         76\n",
       "256GB SSD +  1TB HDD              73\n",
       "32GB Flash Storage                38\n",
       "2TB HDD                           16\n",
       "64GB Flash Storage                15\n",
       "512GB SSD +  1TB HDD              14\n",
       "1TB SSD                           14\n",
       "256GB SSD +  2TB HDD              10\n",
       "1.0TB Hybrid                       9\n",
       "256GB Flash Storage                8\n",
       "16GB Flash Storage                 7\n",
       "32GB SSD                           6\n",
       "180GB SSD                          5\n",
       "128GB Flash Storage                4\n",
       "512GB SSD +  2TB HDD               3\n",
       "16GB SSD                           3\n",
       "512GB Flash Storage                2\n",
       "1TB SSD +  1TB HDD                 2\n",
       "256GB SSD +  500GB HDD             2\n",
       "128GB SSD +  2TB HDD               2\n",
       "256GB SSD +  256GB SSD             2\n",
       "512GB SSD +  256GB SSD             1\n",
       "512GB SSD +  512GB SSD             1\n",
       "64GB Flash Storage +  1TB HDD      1\n",
       "1TB HDD +  1TB HDD                 1\n",
       "32GB HDD                           1\n",
       "64GB SSD                           1\n",
       "128GB HDD                          1\n",
       "240GB SSD                          1\n",
       "8GB SSD                            1\n",
       "508GB Hybrid                       1\n",
       "1.0TB HDD                          1\n",
       "512GB SSD +  1.0TB Hybrid          1\n",
       "256GB SSD +  1.0TB Hybrid          1\n",
       "Name: Memory, dtype: int64"
      ]
     },
     "execution_count": 28,
     "metadata": {},
     "output_type": "execute_result"
    }
   ],
   "source": [
    "df['Memory'].value_counts()"
   ]
  },
  {
   "cell_type": "code",
   "execution_count": 29,
   "id": "472d406d",
   "metadata": {},
   "outputs": [],
   "source": [
    "df['Memory'] = df['Memory'].str.replace('\\.0', '', regex=True)\n",
    "df['Memory'] = df['Memory'].str.replace('GB','')\n",
    "df['Memory'] = df['Memory'].str.replace('TB','000')\n",
    "new = df[\"Memory\"].str.split(\"+\", n = 1, expand = True)\n",
    "df[\"first_part\"]= new[0]\n",
    "df[\"first_part\"]=df[\"first_part\"].str.strip()\n",
    "\n",
    "df[\"second_part\"]= new[1]\n",
    "                  \n",
    "df[\"first_part_HDD\"] = df[\"first_part\"].apply(lambda x: 1 if \"HDD\" in x else 0)\n",
    "df[\"first_part_SSD\"] = df[\"first_part\"].apply(lambda x: 1 if \"SSD\" in x else 0)\n",
    "df[\"first_part_Hybrid\"] = df[\"first_part\"].apply(lambda x: 1 if \"Hybrid\" in x else 0)\n",
    "df[\"first_part_Flash_Storage\"] = df[\"first_part\"].apply(lambda x: 1 if \"Flash Storage\" in x else 0)\n",
    "\n",
    "df['first_part'] = df['first_part'].str.replace(r'\\D', '') #replaces any non-digit character with an empty string\n",
    "df[\"first_part\"] = df[\"first_part\"].astype(int)\n",
    "df['first_part'] = df['first_part'].apply(lambda x:  24*int(x/1000)+x if x>=1000 else x)\n",
    "df['first_part'] = df['first_part'].apply(lambda x:  512 if x>=500 and x<=520 else x)\n",
    "\n",
    "\n",
    "df[\"second_part\"].fillna(\"0\", inplace = True)\n",
    "df[\"second_part_HDD\"] = df[\"second_part\"].apply(lambda x: 1 if \"HDD\" in x else 0)\n",
    "df[\"second_part_SSD\"] = df[\"second_part\"].apply(lambda x: 1 if \"SSD\" in x else 0)\n",
    "df[\"second_part_Hybrid\"] = df[\"second_part\"].apply(lambda x: 1 if \"Hybrid\" in x else 0)\n",
    "df[\"second_part_Flash_Storage\"] = df[\"second_part\"].apply(lambda x: 1 if \"Flash Storage\" in x else 0)\n",
    "\n",
    "df['second_part'] = df['second_part'].str.replace(r'\\D', '')\n",
    "df[\"second_part\"] = df[\"second_part\"].astype(int)\n",
    "df['second_part'] = df['second_part'].apply(lambda x:  24*int(x/1000)+x if x>=1000 else x)\n",
    "df['second_part'] = df['second_part'].apply(lambda x:  512 if x>=500 and x<=520 else x)\n",
    "\n",
    "\n"
   ]
  },
  {
   "cell_type": "code",
   "execution_count": 30,
   "id": "bf82dcec",
   "metadata": {},
   "outputs": [
    {
     "data": {
      "text/plain": [
       "256     508\n",
       "512     273\n",
       "1024    250\n",
       "128     177\n",
       "32       45\n",
       "64       17\n",
       "2048     16\n",
       "16       10\n",
       "180       5\n",
       "240       1\n",
       "8         1\n",
       "Name: first_part, dtype: int64"
      ]
     },
     "execution_count": 30,
     "metadata": {},
     "output_type": "execute_result"
    }
   ],
   "source": [
    "df['first_part'].value_counts()"
   ]
  },
  {
   "cell_type": "markdown",
   "id": "c89e9ead",
   "metadata": {},
   "source": [
    "#### Weight can be made as a Float type feature"
   ]
  },
  {
   "cell_type": "code",
   "execution_count": 31,
   "id": "f162463b",
   "metadata": {},
   "outputs": [],
   "source": [
    "df['Weight'] = df['Weight'].str.replace('kg','')"
   ]
  },
  {
   "cell_type": "code",
   "execution_count": 32,
   "id": "77ae9808",
   "metadata": {},
   "outputs": [],
   "source": [
    "# changing data type\n",
    "df['Weight'] = df['Weight'].astype(float)"
   ]
  },
  {
   "cell_type": "markdown",
   "id": "d33ba7cf",
   "metadata": {},
   "source": [
    "#### Price_euros need to be converted to Price_bdt"
   ]
  },
  {
   "cell_type": "code",
   "execution_count": 33,
   "id": "1f0dde25",
   "metadata": {},
   "outputs": [],
   "source": [
    "df['Price_euros'] = df['Price_euros']*120.53"
   ]
  },
  {
   "cell_type": "markdown",
   "id": "f194bc42",
   "metadata": {},
   "source": [
    "#### Renaming required columns"
   ]
  },
  {
   "cell_type": "code",
   "execution_count": 34,
   "id": "bdc3b428",
   "metadata": {},
   "outputs": [],
   "source": [
    "df.rename(columns={'Ram':'Ram(GB)','Weight':'Weight(kg)','Price_euros':'Price_bdt','Inches':'Size'},inplace=True)"
   ]
  },
  {
   "cell_type": "code",
   "execution_count": 35,
   "id": "b183b775",
   "metadata": {},
   "outputs": [
    {
     "data": {
      "text/html": [
       "<div>\n",
       "<style scoped>\n",
       "    .dataframe tbody tr th:only-of-type {\n",
       "        vertical-align: middle;\n",
       "    }\n",
       "\n",
       "    .dataframe tbody tr th {\n",
       "        vertical-align: top;\n",
       "    }\n",
       "\n",
       "    .dataframe thead th {\n",
       "        text-align: right;\n",
       "    }\n",
       "</style>\n",
       "<table border=\"1\" class=\"dataframe\">\n",
       "  <thead>\n",
       "    <tr style=\"text-align: right;\">\n",
       "      <th></th>\n",
       "      <th>Company</th>\n",
       "      <th>Product</th>\n",
       "      <th>TypeName</th>\n",
       "      <th>Ram(GB)</th>\n",
       "      <th>Memory</th>\n",
       "      <th>Gpu</th>\n",
       "      <th>OpSys</th>\n",
       "      <th>Weight(kg)</th>\n",
       "      <th>Price_bdt</th>\n",
       "      <th>Touchscreen</th>\n",
       "      <th>...</th>\n",
       "      <th>first_part</th>\n",
       "      <th>second_part</th>\n",
       "      <th>first_part_HDD</th>\n",
       "      <th>first_part_SSD</th>\n",
       "      <th>first_part_Hybrid</th>\n",
       "      <th>first_part_Flash_Storage</th>\n",
       "      <th>second_part_HDD</th>\n",
       "      <th>second_part_SSD</th>\n",
       "      <th>second_part_Hybrid</th>\n",
       "      <th>second_part_Flash_Storage</th>\n",
       "    </tr>\n",
       "  </thead>\n",
       "  <tbody>\n",
       "    <tr>\n",
       "      <th>317</th>\n",
       "      <td>Lenovo</td>\n",
       "      <td>ThinkPad 13</td>\n",
       "      <td>Notebook</td>\n",
       "      <td>4</td>\n",
       "      <td>16 Flash Storage</td>\n",
       "      <td>Intel HD Graphics 510</td>\n",
       "      <td>Chrome OS</td>\n",
       "      <td>1.45</td>\n",
       "      <td>55431.747</td>\n",
       "      <td>0</td>\n",
       "      <td>...</td>\n",
       "      <td>16</td>\n",
       "      <td>0</td>\n",
       "      <td>0</td>\n",
       "      <td>0</td>\n",
       "      <td>0</td>\n",
       "      <td>1</td>\n",
       "      <td>0</td>\n",
       "      <td>0</td>\n",
       "      <td>0</td>\n",
       "      <td>0</td>\n",
       "    </tr>\n",
       "    <tr>\n",
       "      <th>400</th>\n",
       "      <td>Lenovo</td>\n",
       "      <td>IdeaPad 320-15IAP</td>\n",
       "      <td>Notebook</td>\n",
       "      <td>4</td>\n",
       "      <td>1000 HDD</td>\n",
       "      <td>Intel HD Graphics 500</td>\n",
       "      <td>Windows 10</td>\n",
       "      <td>2.20</td>\n",
       "      <td>36882.180</td>\n",
       "      <td>0</td>\n",
       "      <td>...</td>\n",
       "      <td>1024</td>\n",
       "      <td>0</td>\n",
       "      <td>1</td>\n",
       "      <td>0</td>\n",
       "      <td>0</td>\n",
       "      <td>0</td>\n",
       "      <td>0</td>\n",
       "      <td>0</td>\n",
       "      <td>0</td>\n",
       "      <td>0</td>\n",
       "    </tr>\n",
       "    <tr>\n",
       "      <th>470</th>\n",
       "      <td>HP</td>\n",
       "      <td>Spectre x360</td>\n",
       "      <td>2 in 1 Convertible</td>\n",
       "      <td>8</td>\n",
       "      <td>512 SSD</td>\n",
       "      <td>Intel UHD Graphics 620</td>\n",
       "      <td>Windows 10</td>\n",
       "      <td>1.29</td>\n",
       "      <td>240939.470</td>\n",
       "      <td>1</td>\n",
       "      <td>...</td>\n",
       "      <td>512</td>\n",
       "      <td>0</td>\n",
       "      <td>0</td>\n",
       "      <td>1</td>\n",
       "      <td>0</td>\n",
       "      <td>0</td>\n",
       "      <td>0</td>\n",
       "      <td>0</td>\n",
       "      <td>0</td>\n",
       "      <td>0</td>\n",
       "    </tr>\n",
       "    <tr>\n",
       "      <th>1032</th>\n",
       "      <td>MSI</td>\n",
       "      <td>GL72M 7RDX</td>\n",
       "      <td>Gaming</td>\n",
       "      <td>8</td>\n",
       "      <td>128 SSD +  1000 HDD</td>\n",
       "      <td>Nvidia GeForce GTX 1050</td>\n",
       "      <td>Windows 10</td>\n",
       "      <td>2.70</td>\n",
       "      <td>143647.654</td>\n",
       "      <td>0</td>\n",
       "      <td>...</td>\n",
       "      <td>128</td>\n",
       "      <td>1024</td>\n",
       "      <td>0</td>\n",
       "      <td>1</td>\n",
       "      <td>0</td>\n",
       "      <td>0</td>\n",
       "      <td>1</td>\n",
       "      <td>0</td>\n",
       "      <td>0</td>\n",
       "      <td>0</td>\n",
       "    </tr>\n",
       "    <tr>\n",
       "      <th>373</th>\n",
       "      <td>Lenovo</td>\n",
       "      <td>IdeaPad 110-17ACL</td>\n",
       "      <td>Notebook</td>\n",
       "      <td>4</td>\n",
       "      <td>128 SSD</td>\n",
       "      <td>AMD Radeon R5</td>\n",
       "      <td>Windows 10</td>\n",
       "      <td>2.60</td>\n",
       "      <td>58939.170</td>\n",
       "      <td>0</td>\n",
       "      <td>...</td>\n",
       "      <td>128</td>\n",
       "      <td>0</td>\n",
       "      <td>0</td>\n",
       "      <td>1</td>\n",
       "      <td>0</td>\n",
       "      <td>0</td>\n",
       "      <td>0</td>\n",
       "      <td>0</td>\n",
       "      <td>0</td>\n",
       "      <td>0</td>\n",
       "    </tr>\n",
       "  </tbody>\n",
       "</table>\n",
       "<p>5 rows × 23 columns</p>\n",
       "</div>"
      ],
      "text/plain": [
       "     Company            Product            TypeName  Ram(GB)  \\\n",
       "317   Lenovo        ThinkPad 13            Notebook        4   \n",
       "400   Lenovo  IdeaPad 320-15IAP            Notebook        4   \n",
       "470       HP       Spectre x360  2 in 1 Convertible        8   \n",
       "1032     MSI         GL72M 7RDX              Gaming        8   \n",
       "373   Lenovo  IdeaPad 110-17ACL            Notebook        4   \n",
       "\n",
       "                   Memory                      Gpu       OpSys  Weight(kg)  \\\n",
       "317      16 Flash Storage    Intel HD Graphics 510   Chrome OS        1.45   \n",
       "400              1000 HDD    Intel HD Graphics 500  Windows 10        2.20   \n",
       "470               512 SSD   Intel UHD Graphics 620  Windows 10        1.29   \n",
       "1032  128 SSD +  1000 HDD  Nvidia GeForce GTX 1050  Windows 10        2.70   \n",
       "373               128 SSD            AMD Radeon R5  Windows 10        2.60   \n",
       "\n",
       "       Price_bdt  Touchscreen  ...  first_part  second_part first_part_HDD  \\\n",
       "317    55431.747            0  ...          16            0              0   \n",
       "400    36882.180            0  ...        1024            0              1   \n",
       "470   240939.470            1  ...         512            0              0   \n",
       "1032  143647.654            0  ...         128         1024              0   \n",
       "373    58939.170            0  ...         128            0              0   \n",
       "\n",
       "      first_part_SSD  first_part_Hybrid  first_part_Flash_Storage  \\\n",
       "317                0                  0                         1   \n",
       "400                0                  0                         0   \n",
       "470                1                  0                         0   \n",
       "1032               1                  0                         0   \n",
       "373                1                  0                         0   \n",
       "\n",
       "      second_part_HDD  second_part_SSD  second_part_Hybrid  \\\n",
       "317                 0                0                   0   \n",
       "400                 0                0                   0   \n",
       "470                 0                0                   0   \n",
       "1032                1                0                   0   \n",
       "373                 0                0                   0   \n",
       "\n",
       "      second_part_Flash_Storage  \n",
       "317                           0  \n",
       "400                           0  \n",
       "470                           0  \n",
       "1032                          0  \n",
       "373                           0  \n",
       "\n",
       "[5 rows x 23 columns]"
      ]
     },
     "execution_count": 35,
     "metadata": {},
     "output_type": "execute_result"
    }
   ],
   "source": [
    "df.sample(5)"
   ]
  },
  {
   "cell_type": "code",
   "execution_count": 36,
   "id": "d272257c",
   "metadata": {},
   "outputs": [
    {
     "name": "stdout",
     "output_type": "stream",
     "text": [
      "<class 'pandas.core.frame.DataFrame'>\n",
      "RangeIndex: 1303 entries, 0 to 1302\n",
      "Data columns (total 23 columns):\n",
      " #   Column                     Non-Null Count  Dtype  \n",
      "---  ------                     --------------  -----  \n",
      " 0   Company                    1303 non-null   object \n",
      " 1   Product                    1303 non-null   object \n",
      " 2   TypeName                   1303 non-null   object \n",
      " 3   Ram(GB)                    1303 non-null   int32  \n",
      " 4   Memory                     1303 non-null   object \n",
      " 5   Gpu                        1303 non-null   object \n",
      " 6   OpSys                      1303 non-null   object \n",
      " 7   Weight(kg)                 1303 non-null   float64\n",
      " 8   Price_bdt                  1303 non-null   float64\n",
      " 9   Touchscreen                1303 non-null   int64  \n",
      " 10  IPS                        1303 non-null   int64  \n",
      " 11  ppi                        1303 non-null   float64\n",
      " 12  Cpu_Brand                  1303 non-null   object \n",
      " 13  first_part                 1303 non-null   int64  \n",
      " 14  second_part                1303 non-null   int64  \n",
      " 15  first_part_HDD             1303 non-null   int64  \n",
      " 16  first_part_SSD             1303 non-null   int64  \n",
      " 17  first_part_Hybrid          1303 non-null   int64  \n",
      " 18  first_part_Flash_Storage   1303 non-null   int64  \n",
      " 19  second_part_HDD            1303 non-null   int64  \n",
      " 20  second_part_SSD            1303 non-null   int64  \n",
      " 21  second_part_Hybrid         1303 non-null   int64  \n",
      " 22  second_part_Flash_Storage  1303 non-null   int64  \n",
      "dtypes: float64(3), int32(1), int64(12), object(7)\n",
      "memory usage: 229.2+ KB\n"
     ]
    }
   ],
   "source": [
    "df.info()"
   ]
  },
  {
   "cell_type": "code",
   "execution_count": 37,
   "id": "095d1c23",
   "metadata": {},
   "outputs": [
    {
     "data": {
      "text/html": [
       "<div>\n",
       "<style scoped>\n",
       "    .dataframe tbody tr th:only-of-type {\n",
       "        vertical-align: middle;\n",
       "    }\n",
       "\n",
       "    .dataframe tbody tr th {\n",
       "        vertical-align: top;\n",
       "    }\n",
       "\n",
       "    .dataframe thead th {\n",
       "        text-align: right;\n",
       "    }\n",
       "</style>\n",
       "<table border=\"1\" class=\"dataframe\">\n",
       "  <thead>\n",
       "    <tr style=\"text-align: right;\">\n",
       "      <th></th>\n",
       "      <th>Ram(GB)</th>\n",
       "      <th>Weight(kg)</th>\n",
       "      <th>Price_bdt</th>\n",
       "      <th>Touchscreen</th>\n",
       "      <th>IPS</th>\n",
       "      <th>ppi</th>\n",
       "      <th>first_part</th>\n",
       "      <th>second_part</th>\n",
       "      <th>first_part_HDD</th>\n",
       "      <th>first_part_SSD</th>\n",
       "      <th>first_part_Hybrid</th>\n",
       "      <th>first_part_Flash_Storage</th>\n",
       "      <th>second_part_HDD</th>\n",
       "      <th>second_part_SSD</th>\n",
       "      <th>second_part_Hybrid</th>\n",
       "      <th>second_part_Flash_Storage</th>\n",
       "    </tr>\n",
       "  </thead>\n",
       "  <tbody>\n",
       "    <tr>\n",
       "      <th>count</th>\n",
       "      <td>1303.000000</td>\n",
       "      <td>1303.000000</td>\n",
       "      <td>1303.000000</td>\n",
       "      <td>1303.000000</td>\n",
       "      <td>1303.000000</td>\n",
       "      <td>1303.000000</td>\n",
       "      <td>1303.000000</td>\n",
       "      <td>1303.000000</td>\n",
       "      <td>1303.000000</td>\n",
       "      <td>1303.000000</td>\n",
       "      <td>1303.000000</td>\n",
       "      <td>1303.000000</td>\n",
       "      <td>1303.000000</td>\n",
       "      <td>1303.000000</td>\n",
       "      <td>1303.000000</td>\n",
       "      <td>1303.0</td>\n",
       "    </tr>\n",
       "    <tr>\n",
       "      <th>mean</th>\n",
       "      <td>8.382195</td>\n",
       "      <td>2.038734</td>\n",
       "      <td>135437.993092</td>\n",
       "      <td>0.147352</td>\n",
       "      <td>0.280123</td>\n",
       "      <td>146.635987</td>\n",
       "      <td>449.028396</td>\n",
       "      <td>172.303914</td>\n",
       "      <td>0.287797</td>\n",
       "      <td>0.646969</td>\n",
       "      <td>0.007675</td>\n",
       "      <td>0.057559</td>\n",
       "      <td>0.155027</td>\n",
       "      <td>0.003070</td>\n",
       "      <td>0.001535</td>\n",
       "      <td>0.0</td>\n",
       "    </tr>\n",
       "    <tr>\n",
       "      <th>std</th>\n",
       "      <td>5.084665</td>\n",
       "      <td>0.665475</td>\n",
       "      <td>84251.559897</td>\n",
       "      <td>0.354593</td>\n",
       "      <td>0.449231</td>\n",
       "      <td>43.121345</td>\n",
       "      <td>366.229006</td>\n",
       "      <td>412.270525</td>\n",
       "      <td>0.452910</td>\n",
       "      <td>0.478096</td>\n",
       "      <td>0.087301</td>\n",
       "      <td>0.232998</td>\n",
       "      <td>0.362069</td>\n",
       "      <td>0.055342</td>\n",
       "      <td>0.039163</td>\n",
       "      <td>0.0</td>\n",
       "    </tr>\n",
       "    <tr>\n",
       "      <th>min</th>\n",
       "      <td>2.000000</td>\n",
       "      <td>0.690000</td>\n",
       "      <td>20972.220000</td>\n",
       "      <td>0.000000</td>\n",
       "      <td>0.000000</td>\n",
       "      <td>90.583402</td>\n",
       "      <td>8.000000</td>\n",
       "      <td>0.000000</td>\n",
       "      <td>0.000000</td>\n",
       "      <td>0.000000</td>\n",
       "      <td>0.000000</td>\n",
       "      <td>0.000000</td>\n",
       "      <td>0.000000</td>\n",
       "      <td>0.000000</td>\n",
       "      <td>0.000000</td>\n",
       "      <td>0.0</td>\n",
       "    </tr>\n",
       "    <tr>\n",
       "      <th>25%</th>\n",
       "      <td>4.000000</td>\n",
       "      <td>1.500000</td>\n",
       "      <td>72197.470000</td>\n",
       "      <td>0.000000</td>\n",
       "      <td>0.000000</td>\n",
       "      <td>127.335675</td>\n",
       "      <td>256.000000</td>\n",
       "      <td>0.000000</td>\n",
       "      <td>0.000000</td>\n",
       "      <td>0.000000</td>\n",
       "      <td>0.000000</td>\n",
       "      <td>0.000000</td>\n",
       "      <td>0.000000</td>\n",
       "      <td>0.000000</td>\n",
       "      <td>0.000000</td>\n",
       "      <td>0.0</td>\n",
       "    </tr>\n",
       "    <tr>\n",
       "      <th>50%</th>\n",
       "      <td>8.000000</td>\n",
       "      <td>2.040000</td>\n",
       "      <td>117757.810000</td>\n",
       "      <td>0.000000</td>\n",
       "      <td>0.000000</td>\n",
       "      <td>141.211998</td>\n",
       "      <td>256.000000</td>\n",
       "      <td>0.000000</td>\n",
       "      <td>0.000000</td>\n",
       "      <td>1.000000</td>\n",
       "      <td>0.000000</td>\n",
       "      <td>0.000000</td>\n",
       "      <td>0.000000</td>\n",
       "      <td>0.000000</td>\n",
       "      <td>0.000000</td>\n",
       "      <td>0.0</td>\n",
       "    </tr>\n",
       "    <tr>\n",
       "      <th>75%</th>\n",
       "      <td>8.000000</td>\n",
       "      <td>2.300000</td>\n",
       "      <td>179334.176400</td>\n",
       "      <td>0.000000</td>\n",
       "      <td>1.000000</td>\n",
       "      <td>157.350512</td>\n",
       "      <td>512.000000</td>\n",
       "      <td>0.000000</td>\n",
       "      <td>1.000000</td>\n",
       "      <td>1.000000</td>\n",
       "      <td>0.000000</td>\n",
       "      <td>0.000000</td>\n",
       "      <td>0.000000</td>\n",
       "      <td>0.000000</td>\n",
       "      <td>0.000000</td>\n",
       "      <td>0.0</td>\n",
       "    </tr>\n",
       "    <tr>\n",
       "      <th>max</th>\n",
       "      <td>64.000000</td>\n",
       "      <td>4.700000</td>\n",
       "      <td>735112.470000</td>\n",
       "      <td>1.000000</td>\n",
       "      <td>1.000000</td>\n",
       "      <td>352.465147</td>\n",
       "      <td>2048.000000</td>\n",
       "      <td>2048.000000</td>\n",
       "      <td>1.000000</td>\n",
       "      <td>1.000000</td>\n",
       "      <td>1.000000</td>\n",
       "      <td>1.000000</td>\n",
       "      <td>1.000000</td>\n",
       "      <td>1.000000</td>\n",
       "      <td>1.000000</td>\n",
       "      <td>0.0</td>\n",
       "    </tr>\n",
       "  </tbody>\n",
       "</table>\n",
       "</div>"
      ],
      "text/plain": [
       "           Ram(GB)   Weight(kg)      Price_bdt  Touchscreen          IPS  \\\n",
       "count  1303.000000  1303.000000    1303.000000  1303.000000  1303.000000   \n",
       "mean      8.382195     2.038734  135437.993092     0.147352     0.280123   \n",
       "std       5.084665     0.665475   84251.559897     0.354593     0.449231   \n",
       "min       2.000000     0.690000   20972.220000     0.000000     0.000000   \n",
       "25%       4.000000     1.500000   72197.470000     0.000000     0.000000   \n",
       "50%       8.000000     2.040000  117757.810000     0.000000     0.000000   \n",
       "75%       8.000000     2.300000  179334.176400     0.000000     1.000000   \n",
       "max      64.000000     4.700000  735112.470000     1.000000     1.000000   \n",
       "\n",
       "               ppi   first_part  second_part  first_part_HDD  first_part_SSD  \\\n",
       "count  1303.000000  1303.000000  1303.000000     1303.000000     1303.000000   \n",
       "mean    146.635987   449.028396   172.303914        0.287797        0.646969   \n",
       "std      43.121345   366.229006   412.270525        0.452910        0.478096   \n",
       "min      90.583402     8.000000     0.000000        0.000000        0.000000   \n",
       "25%     127.335675   256.000000     0.000000        0.000000        0.000000   \n",
       "50%     141.211998   256.000000     0.000000        0.000000        1.000000   \n",
       "75%     157.350512   512.000000     0.000000        1.000000        1.000000   \n",
       "max     352.465147  2048.000000  2048.000000        1.000000        1.000000   \n",
       "\n",
       "       first_part_Hybrid  first_part_Flash_Storage  second_part_HDD  \\\n",
       "count        1303.000000               1303.000000      1303.000000   \n",
       "mean            0.007675                  0.057559         0.155027   \n",
       "std             0.087301                  0.232998         0.362069   \n",
       "min             0.000000                  0.000000         0.000000   \n",
       "25%             0.000000                  0.000000         0.000000   \n",
       "50%             0.000000                  0.000000         0.000000   \n",
       "75%             0.000000                  0.000000         0.000000   \n",
       "max             1.000000                  1.000000         1.000000   \n",
       "\n",
       "       second_part_SSD  second_part_Hybrid  second_part_Flash_Storage  \n",
       "count      1303.000000         1303.000000                     1303.0  \n",
       "mean          0.003070            0.001535                        0.0  \n",
       "std           0.055342            0.039163                        0.0  \n",
       "min           0.000000            0.000000                        0.0  \n",
       "25%           0.000000            0.000000                        0.0  \n",
       "50%           0.000000            0.000000                        0.0  \n",
       "75%           0.000000            0.000000                        0.0  \n",
       "max           1.000000            1.000000                        0.0  "
      ]
     },
     "execution_count": 37,
     "metadata": {},
     "output_type": "execute_result"
    }
   ],
   "source": [
    "df.describe()"
   ]
  },
  {
   "cell_type": "markdown",
   "id": "a231f2d8",
   "metadata": {},
   "source": [
    "#### Insight\n",
    "- Minimum laptop size starts from 10.1 inches and max can be 18.4 inches. Average size is 15 inches\n",
    "- Minimum ram is 2 GB and maximum is 64 GB. In average laptop contains 8 GB of ram.\n",
    "- Minimum Weight is 0.69 kg and maximum is 4.7 kg. In average laptops are 2.03 KG in weight.\n",
    "- Laptop price starts from 20972.22 BDT and goes maximum 735112 BDT."
   ]
  },
  {
   "cell_type": "markdown",
   "id": "80f33dc1",
   "metadata": {},
   "source": [
    "### 4. Exploring Data ( Visualization )\n",
    "#### 4.1 Visualization of average score distribution to make some conclusion. \n",
    "- Countplot\n",
    "- Histogram\n",
    "- Kernel Distribution Function (KDE)"
   ]
  },
  {
   "cell_type": "markdown",
   "id": "414c7865",
   "metadata": {},
   "source": [
    "#### 4.1.1 Countplot"
   ]
  },
  {
   "cell_type": "markdown",
   "id": "67d146f3",
   "metadata": {},
   "source": [
    "#### Laptop companies in the dataset"
   ]
  },
  {
   "cell_type": "code",
   "execution_count": 38,
   "id": "eeb858a5",
   "metadata": {},
   "outputs": [
    {
     "data": {
      "image/png": "[encoded data removed]",
      "text/plain": [
       "<Figure size 640x480 with 1 Axes>"
      ]
     },
     "metadata": {},
     "output_type": "display_data"
    }
   ],
   "source": [
    "sns.countplot(x='Company', data=df, order=df['Company'].value_counts().index)\n",
    "plt.xticks(rotation=45, ha='right')\n",
    "plt.show()"
   ]
  },
  {
   "cell_type": "markdown",
   "id": "f6b60175",
   "metadata": {},
   "source": [
    "#### Types of laptops are in the dataset"
   ]
  },
  {
   "cell_type": "code",
   "execution_count": 39,
   "id": "aeedf37a",
   "metadata": {},
   "outputs": [
    {
     "data": {
      "image/png": "[encoded data removed]",
      "text/plain": [
       "<Figure size 640x480 with 1 Axes>"
      ]
     },
     "metadata": {},
     "output_type": "display_data"
    }
   ],
   "source": [
    "sns.countplot(x='TypeName', data=df, order=df['TypeName'].value_counts().index)\n",
    "plt.xticks(rotation=45, ha='right')\n",
    "plt.show()"
   ]
  },
  {
   "cell_type": "markdown",
   "id": "76516d65",
   "metadata": {},
   "source": [
    "#### Types of operating system are in the dataset"
   ]
  },
  {
   "cell_type": "code",
   "execution_count": 40,
   "id": "f699c0af",
   "metadata": {},
   "outputs": [
    {
     "data": {
      "image/png": "[encoded data removed]",
      "text/plain": [
       "<Figure size 640x480 with 1 Axes>"
      ]
     },
     "metadata": {},
     "output_type": "display_data"
    }
   ],
   "source": [
    "sns.countplot(x='OpSys', data=df, order=df['OpSys'].value_counts().index)\n",
    "plt.xticks(rotation=45, ha='right')\n",
    "plt.show()"
   ]
  },
  {
   "cell_type": "markdown",
   "id": "02afe93f",
   "metadata": {},
   "source": [
    "#### 4.1.2 Histogram & KDE"
   ]
  },
  {
   "cell_type": "code",
   "execution_count": 41,
   "id": "85f9d182",
   "metadata": {},
   "outputs": [
    {
     "ename": "ValueError",
     "evalue": "Could not interpret value `Size` for parameter `x`",
     "output_type": "error",
     "traceback": [
      "\u001b[1;31m---------------------------------------------------------------------------\u001b[0m",
      "\u001b[1;31mValueError\u001b[0m                                Traceback (most recent call last)",
      "\u001b[1;32m~\\AppData\\Local\\Temp\\ipykernel_12884\\2498423153.py\u001b[0m in \u001b[0;36m<module>\u001b[1;34m\u001b[0m\n\u001b[0;32m      2\u001b[0m \u001b[0mfig\u001b[0m\u001b[1;33m,\u001b[0m \u001b[0maxs\u001b[0m \u001b[1;33m=\u001b[0m \u001b[0mplt\u001b[0m\u001b[1;33m.\u001b[0m\u001b[0msubplots\u001b[0m\u001b[1;33m(\u001b[0m\u001b[1;36m1\u001b[0m\u001b[1;33m,\u001b[0m \u001b[1;36m2\u001b[0m\u001b[1;33m,\u001b[0m \u001b[0mfigsize\u001b[0m\u001b[1;33m=\u001b[0m\u001b[1;33m(\u001b[0m\u001b[1;36m15\u001b[0m\u001b[1;33m,\u001b[0m \u001b[1;36m7\u001b[0m\u001b[1;33m)\u001b[0m\u001b[1;33m)\u001b[0m\u001b[1;33m\u001b[0m\u001b[1;33m\u001b[0m\u001b[0m\n\u001b[0;32m      3\u001b[0m \u001b[0mplt\u001b[0m\u001b[1;33m.\u001b[0m\u001b[0msubplot\u001b[0m\u001b[1;33m(\u001b[0m\u001b[1;36m121\u001b[0m\u001b[1;33m)\u001b[0m\u001b[1;33m\u001b[0m\u001b[1;33m\u001b[0m\u001b[0m\n\u001b[1;32m----> 4\u001b[1;33m \u001b[0msns\u001b[0m\u001b[1;33m.\u001b[0m\u001b[0mhistplot\u001b[0m\u001b[1;33m(\u001b[0m\u001b[0mdata\u001b[0m\u001b[1;33m=\u001b[0m\u001b[0mdf\u001b[0m\u001b[1;33m,\u001b[0m\u001b[0mx\u001b[0m\u001b[1;33m=\u001b[0m\u001b[1;34m'Size'\u001b[0m\u001b[1;33m,\u001b[0m\u001b[0mkde\u001b[0m\u001b[1;33m=\u001b[0m\u001b[1;32mTrue\u001b[0m\u001b[1;33m,\u001b[0m\u001b[0mhue\u001b[0m\u001b[1;33m=\u001b[0m\u001b[1;34m'Company'\u001b[0m\u001b[1;33m)\u001b[0m\u001b[1;33m\u001b[0m\u001b[1;33m\u001b[0m\u001b[0m\n\u001b[0m\u001b[0;32m      5\u001b[0m \u001b[0mplt\u001b[0m\u001b[1;33m.\u001b[0m\u001b[0msubplot\u001b[0m\u001b[1;33m(\u001b[0m\u001b[1;36m122\u001b[0m\u001b[1;33m)\u001b[0m\u001b[1;33m\u001b[0m\u001b[1;33m\u001b[0m\u001b[0m\n\u001b[0;32m      6\u001b[0m \u001b[0msns\u001b[0m\u001b[1;33m.\u001b[0m\u001b[0mhistplot\u001b[0m\u001b[1;33m(\u001b[0m\u001b[0mdata\u001b[0m\u001b[1;33m=\u001b[0m\u001b[0mdf\u001b[0m\u001b[1;33m,\u001b[0m\u001b[0mx\u001b[0m\u001b[1;33m=\u001b[0m\u001b[1;34m'Size'\u001b[0m\u001b[1;33m,\u001b[0m\u001b[0mkde\u001b[0m\u001b[1;33m=\u001b[0m\u001b[1;32mTrue\u001b[0m\u001b[1;33m,\u001b[0m\u001b[0mhue\u001b[0m\u001b[1;33m=\u001b[0m\u001b[1;34m'TypeName'\u001b[0m\u001b[1;33m)\u001b[0m\u001b[1;33m\u001b[0m\u001b[1;33m\u001b[0m\u001b[0m\n",
      "\u001b[1;32m~\\anaconda3\\lib\\site-packages\\seaborn\\distributions.py\u001b[0m in \u001b[0;36mhistplot\u001b[1;34m(data, x, y, hue, weights, stat, bins, binwidth, binrange, discrete, cumulative, common_bins, common_norm, multiple, element, fill, shrink, kde, kde_kws, line_kws, thresh, pthresh, pmax, cbar, cbar_ax, cbar_kws, palette, hue_order, hue_norm, color, log_scale, legend, ax, **kwargs)\u001b[0m\n\u001b[0;32m   1428\u001b[0m ):\n\u001b[0;32m   1429\u001b[0m \u001b[1;33m\u001b[0m\u001b[0m\n\u001b[1;32m-> 1430\u001b[1;33m     p = _DistributionPlotter(\n\u001b[0m\u001b[0;32m   1431\u001b[0m         \u001b[0mdata\u001b[0m\u001b[1;33m=\u001b[0m\u001b[0mdata\u001b[0m\u001b[1;33m,\u001b[0m\u001b[1;33m\u001b[0m\u001b[1;33m\u001b[0m\u001b[0m\n\u001b[0;32m   1432\u001b[0m         \u001b[0mvariables\u001b[0m\u001b[1;33m=\u001b[0m\u001b[0m_DistributionPlotter\u001b[0m\u001b[1;33m.\u001b[0m\u001b[0mget_semantics\u001b[0m\u001b[1;33m(\u001b[0m\u001b[0mlocals\u001b[0m\u001b[1;33m(\u001b[0m\u001b[1;33m)\u001b[0m\u001b[1;33m)\u001b[0m\u001b[1;33m\u001b[0m\u001b[1;33m\u001b[0m\u001b[0m\n",
      "\u001b[1;32m~\\anaconda3\\lib\\site-packages\\seaborn\\distributions.py\u001b[0m in \u001b[0;36m__init__\u001b[1;34m(self, data, variables)\u001b[0m\n\u001b[0;32m    109\u001b[0m     ):\n\u001b[0;32m    110\u001b[0m \u001b[1;33m\u001b[0m\u001b[0m\n\u001b[1;32m--> 111\u001b[1;33m         \u001b[0msuper\u001b[0m\u001b[1;33m(\u001b[0m\u001b[1;33m)\u001b[0m\u001b[1;33m.\u001b[0m\u001b[0m__init__\u001b[0m\u001b[1;33m(\u001b[0m\u001b[0mdata\u001b[0m\u001b[1;33m=\u001b[0m\u001b[0mdata\u001b[0m\u001b[1;33m,\u001b[0m \u001b[0mvariables\u001b[0m\u001b[1;33m=\u001b[0m\u001b[0mvariables\u001b[0m\u001b[1;33m)\u001b[0m\u001b[1;33m\u001b[0m\u001b[1;33m\u001b[0m\u001b[0m\n\u001b[0m\u001b[0;32m    112\u001b[0m \u001b[1;33m\u001b[0m\u001b[0m\n\u001b[0;32m    113\u001b[0m     \u001b[1;33m@\u001b[0m\u001b[0mproperty\u001b[0m\u001b[1;33m\u001b[0m\u001b[1;33m\u001b[0m\u001b[0m\n",
      "\u001b[1;32m~\\anaconda3\\lib\\site-packages\\seaborn\\_core.py\u001b[0m in \u001b[0;36m__init__\u001b[1;34m(self, data, variables)\u001b[0m\n\u001b[0;32m    603\u001b[0m     \u001b[1;32mdef\u001b[0m \u001b[0m__init__\u001b[0m\u001b[1;33m(\u001b[0m\u001b[0mself\u001b[0m\u001b[1;33m,\u001b[0m \u001b[0mdata\u001b[0m\u001b[1;33m=\u001b[0m\u001b[1;32mNone\u001b[0m\u001b[1;33m,\u001b[0m \u001b[0mvariables\u001b[0m\u001b[1;33m=\u001b[0m\u001b[1;33m{\u001b[0m\u001b[1;33m}\u001b[0m\u001b[1;33m)\u001b[0m\u001b[1;33m:\u001b[0m\u001b[1;33m\u001b[0m\u001b[1;33m\u001b[0m\u001b[0m\n\u001b[0;32m    604\u001b[0m \u001b[1;33m\u001b[0m\u001b[0m\n\u001b[1;32m--> 605\u001b[1;33m         \u001b[0mself\u001b[0m\u001b[1;33m.\u001b[0m\u001b[0massign_variables\u001b[0m\u001b[1;33m(\u001b[0m\u001b[0mdata\u001b[0m\u001b[1;33m,\u001b[0m \u001b[0mvariables\u001b[0m\u001b[1;33m)\u001b[0m\u001b[1;33m\u001b[0m\u001b[1;33m\u001b[0m\u001b[0m\n\u001b[0m\u001b[0;32m    606\u001b[0m \u001b[1;33m\u001b[0m\u001b[0m\n\u001b[0;32m    607\u001b[0m         \u001b[1;32mfor\u001b[0m \u001b[0mvar\u001b[0m\u001b[1;33m,\u001b[0m \u001b[0mcls\u001b[0m \u001b[1;32min\u001b[0m \u001b[0mself\u001b[0m\u001b[1;33m.\u001b[0m\u001b[0m_semantic_mappings\u001b[0m\u001b[1;33m.\u001b[0m\u001b[0mitems\u001b[0m\u001b[1;33m(\u001b[0m\u001b[1;33m)\u001b[0m\u001b[1;33m:\u001b[0m\u001b[1;33m\u001b[0m\u001b[1;33m\u001b[0m\u001b[0m\n",
      "\u001b[1;32m~\\anaconda3\\lib\\site-packages\\seaborn\\_core.py\u001b[0m in \u001b[0;36massign_variables\u001b[1;34m(self, data, variables)\u001b[0m\n\u001b[0;32m    666\u001b[0m         \u001b[1;32melse\u001b[0m\u001b[1;33m:\u001b[0m\u001b[1;33m\u001b[0m\u001b[1;33m\u001b[0m\u001b[0m\n\u001b[0;32m    667\u001b[0m             \u001b[0mself\u001b[0m\u001b[1;33m.\u001b[0m\u001b[0minput_format\u001b[0m \u001b[1;33m=\u001b[0m \u001b[1;34m\"long\"\u001b[0m\u001b[1;33m\u001b[0m\u001b[1;33m\u001b[0m\u001b[0m\n\u001b[1;32m--> 668\u001b[1;33m             plot_data, variables = self._assign_variables_longform(\n\u001b[0m\u001b[0;32m    669\u001b[0m                 \u001b[0mdata\u001b[0m\u001b[1;33m,\u001b[0m \u001b[1;33m**\u001b[0m\u001b[0mvariables\u001b[0m\u001b[1;33m,\u001b[0m\u001b[1;33m\u001b[0m\u001b[1;33m\u001b[0m\u001b[0m\n\u001b[0;32m    670\u001b[0m             )\n",
      "\u001b[1;32m~\\anaconda3\\lib\\site-packages\\seaborn\\_core.py\u001b[0m in \u001b[0;36m_assign_variables_longform\u001b[1;34m(self, data, **kwargs)\u001b[0m\n\u001b[0;32m    901\u001b[0m \u001b[1;33m\u001b[0m\u001b[0m\n\u001b[0;32m    902\u001b[0m                 \u001b[0merr\u001b[0m \u001b[1;33m=\u001b[0m \u001b[1;34mf\"Could not interpret value `{val}` for parameter `{key}`\"\u001b[0m\u001b[1;33m\u001b[0m\u001b[1;33m\u001b[0m\u001b[0m\n\u001b[1;32m--> 903\u001b[1;33m                 \u001b[1;32mraise\u001b[0m \u001b[0mValueError\u001b[0m\u001b[1;33m(\u001b[0m\u001b[0merr\u001b[0m\u001b[1;33m)\u001b[0m\u001b[1;33m\u001b[0m\u001b[1;33m\u001b[0m\u001b[0m\n\u001b[0m\u001b[0;32m    904\u001b[0m \u001b[1;33m\u001b[0m\u001b[0m\n\u001b[0;32m    905\u001b[0m             \u001b[1;32melse\u001b[0m\u001b[1;33m:\u001b[0m\u001b[1;33m\u001b[0m\u001b[1;33m\u001b[0m\u001b[0m\n",
      "\u001b[1;31mValueError\u001b[0m: Could not interpret value `Size` for parameter `x`"
     ]
    },
    {
     "data": {
      "image/png": "[encoded data removed]",
      "text/plain": [
       "<Figure size 1500x700 with 2 Axes>"
      ]
     },
     "metadata": {},
     "output_type": "display_data"
    }
   ],
   "source": [
    "# size\n",
    "fig, axs = plt.subplots(1, 2, figsize=(15, 7))\n",
    "plt.subplot(121)\n",
    "sns.histplot(data=df,x='Size',kde=True,hue='Company')\n",
    "plt.subplot(122)\n",
    "sns.histplot(data=df,x='Size',kde=True,hue='TypeName')\n",
    "plt.show()"
   ]
  },
  {
   "cell_type": "code",
   "execution_count": null,
   "id": "e06036ea",
   "metadata": {},
   "outputs": [],
   "source": [
    "# Ram(GB)\n",
    "fig, axs = plt.subplots(1, 2, figsize=(15, 7))\n",
    "plt.subplot(121)\n",
    "sns.histplot(data=df,x='Ram(GB)',kde=True,hue='Company')\n",
    "plt.subplot(122)\n",
    "sns.histplot(data=df,x='Ram(GB)',kde=True,hue='TypeName')\n",
    "plt.show()"
   ]
  },
  {
   "cell_type": "code",
   "execution_count": null,
   "id": "a6847096",
   "metadata": {},
   "outputs": [],
   "source": [
    "# Weight(kg)\n",
    "fig, axs = plt.subplots(1, 2, figsize=(15, 7))\n",
    "plt.subplot(121)\n",
    "sns.histplot(data=df,x='Weight(kg)',kde=True,hue='Company')\n",
    "plt.subplot(122)\n",
    "sns.histplot(data=df,x='Weight(kg)',kde=True,hue='TypeName')\n",
    "plt.show()"
   ]
  },
  {
   "cell_type": "code",
   "execution_count": null,
   "id": "21f0f31e",
   "metadata": {},
   "outputs": [],
   "source": [
    "# Price_bdt\n",
    "fig, axs = plt.subplots(1, 2, figsize=(15, 7))\n",
    "plt.subplot(121)\n",
    "sns.histplot(data=df,x='Price_bdt',kde=True,hue='Company')\n",
    "plt.subplot(122)\n",
    "sns.histplot(data=df,x='Price_bdt',kde=True,hue='TypeName')\n",
    "plt.show()"
   ]
  },
  {
   "cell_type": "markdown",
   "id": "23636ce6",
   "metadata": {},
   "source": [
    "#### 4.2 Maximum values in numerical columns"
   ]
  },
  {
   "cell_type": "code",
   "execution_count": null,
   "id": "d213b266",
   "metadata": {},
   "outputs": [],
   "source": [
    "plt.figure(figsize=(20,8))\n",
    "plt.subplot(1, 4, 1)\n",
    "plt.title('Display Sizes')\n",
    "sns.violinplot(y='Size',data=df,color='green',linewidth=3)\n",
    "plt.subplot(1, 4, 2)\n",
    "plt.title('Ram Sizes')\n",
    "sns.violinplot(y='Ram(GB)',data=df,color='red',linewidth=3)\n",
    "plt.subplot(1, 4, 3)\n",
    "plt.title('Weights')\n",
    "sns.violinplot(y='Weight(kg)',data=df,color='yellow',linewidth=3)\n",
    "plt.subplot(1, 4, 4)\n",
    "plt.title('Price in BDT')\n",
    "sns.violinplot(y='Price_bdt',data=df,color='blue',linewidth=3)\n",
    "plt.show()"
   ]
  },
  {
   "cell_type": "markdown",
   "id": "83a542e8",
   "metadata": {},
   "source": [
    "#### Insights\n",
    "- From the above four plots its clearly visible that most of the Display size are between 15-16 inches, rams are between 4-8 GB, Weights are between 2-2.5 kg and prices are between 50k-100k"
   ]
  },
  {
   "cell_type": "markdown",
   "id": "92a9fe63",
   "metadata": {},
   "source": [
    "#### BIVARIATE ANALYSIS ( Does Company have any impact on Laptop prices ? ) "
   ]
  },
  {
   "cell_type": "code",
   "execution_count": null,
   "id": "d36f3a54",
   "metadata": {},
   "outputs": [],
   "source": [
    "company_group = df.groupby('Company').mean().reset_index()\n",
    "company_group_sorted = company_group.sort_values(by='Price_bdt', ascending=False)\n",
    "sns.barplot(x='Company', y='Price_bdt', data=company_group_sorted)\n",
    "plt.xticks(rotation=45, ha='right')\n",
    "plt.xlabel('Laptop Company')\n",
    "plt.ylabel(\"Average Price\")\n",
    "plt.show()"
   ]
  },
  {
   "cell_type": "markdown",
   "id": "8aa61a43",
   "metadata": {},
   "source": [
    "#### Insights\n",
    "- From the above four plots its clearly visible that Razer creates the most costly laptops and the least costly laptops are from Vero."
   ]
  },
  {
   "cell_type": "markdown",
   "id": "95ffd1f6",
   "metadata": {},
   "source": [
    "#### 4.3 BIVARIATE ANALYSIS ( Does Laptop type have any impact on Laptop prices ? ) "
   ]
  },
  {
   "cell_type": "code",
   "execution_count": null,
   "id": "99da58e1",
   "metadata": {},
   "outputs": [],
   "source": [
    "plt.figure(figsize=(30,10))\n",
    "plt.subplot(1,4,1)\n",
    "type_group = df.groupby('TypeName').mean().reset_index()\n",
    "type_group_sorted = type_group.sort_values(by='Price_bdt', ascending=False)\n",
    "sns.barplot(x='TypeName', y='Price_bdt', data=type_group_sorted)\n",
    "plt.xticks(rotation=45, ha='right')\n",
    "plt.xlabel('Laptop Type')\n",
    "plt.ylabel(\"Average Price\")\n",
    "\n",
    "plt.subplot(1,4,2)\n",
    "os_group = df.groupby('OpSys').mean().reset_index()\n",
    "os_group_sorted = os_group.sort_values(by='Price_bdt', ascending=False)\n",
    "sns.barplot(x='OpSys', y='Price_bdt', data=os_group_sorted)\n",
    "plt.xticks(rotation=45, ha='right')\n",
    "plt.xlabel('Laptop OS')\n",
    "plt.ylabel(\"Average Price\")\n",
    "plt.show()"
   ]
  },
  {
   "cell_type": "markdown",
   "id": "5cb467ea",
   "metadata": {},
   "source": [
    "#### Insights\n",
    "- Workstations and gaming laptops are most costly while Netbook and Notebooks are least costly\n",
    "- macOS are the most expensive operating system there where Android is the least expensive"
   ]
  },
  {
   "cell_type": "markdown",
   "id": "823d847b",
   "metadata": {},
   "source": [
    "#### 4.4 CHECKING OUTLIERS"
   ]
  },
  {
   "cell_type": "code",
   "execution_count": null,
   "id": "a5d8fa23",
   "metadata": {
    "scrolled": true
   },
   "outputs": [],
   "source": [
    "fig, axes = plt.subplots(2, 2, figsize=(16, 5))\n",
    "sns.boxplot(df['Size'], color='skyblue', ax=axes[0, 0])\n",
    "sns.boxplot(df['Ram(GB)'], color='hotpink', ax=axes[0, 1])\n",
    "sns.boxplot(df['Weight(kg)'], color='yellow', ax=axes[1, 0])\n",
    "sns.boxplot(df['Price_bdt'], color='lightgreen', ax=axes[1, 1])\n",
    "plt.tight_layout()\n",
    "plt.show()"
   ]
  },
  {
   "cell_type": "markdown",
   "id": "8ab6bd81",
   "metadata": {},
   "source": [
    "#### 4.5 MUTIVARIATE ANALYSIS USING PAIRPLOT"
   ]
  },
  {
   "cell_type": "code",
   "execution_count": null,
   "id": "1060ee43",
   "metadata": {},
   "outputs": [],
   "source": [
    "sns.pairplot(df,hue = 'Company')\n",
    "plt.show()"
   ]
  },
  {
   "cell_type": "code",
   "execution_count": null,
   "id": "075f1265",
   "metadata": {},
   "outputs": [],
   "source": []
  }
 ],
 "metadata": {
  "kernelspec": {
   "display_name": "Python 3 (ipykernel)",
   "language": "python",
   "name": "python3"
  },
  "language_info": {
   "codemirror_mode": {
    "name": "ipython",
    "version": 3
   },
   "file_extension": ".py",
   "mimetype": "text/x-python",
   "name": "python",
   "nbconvert_exporter": "python",
   "pygments_lexer": "ipython3",
   "version": "3.9.13"
  }
 },
 "nbformat": 4,
 "nbformat_minor": 5
}
